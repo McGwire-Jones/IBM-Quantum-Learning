{
 "cells": [
  {
   "cell_type": "code",
   "execution_count": 26,
   "metadata": {},
   "outputs": [],
   "source": [
    "from numpy import array, matmul"
   ]
  },
  {
   "attachments": {},
   "cell_type": "markdown",
   "metadata": {},
   "source": [
    "# Classical Information"
   ]
  },
  {
   "attachments": {},
   "cell_type": "markdown",
   "metadata": {},
   "source": [
    "Consider a system X with finite classical states. \n",
    "Let $\\Sigma$ be the set of classical states. i.e \n",
    "* X is a bit then $\\Sigma = {0, 1}$\n",
    "* X is a die then $\\Sigma = {1, 2, 3, 4, 5, 6}$\n",
    "Consider the case when X is a bit with $P(x = 0) = \\frac{3}{4}$ and $P(x = 1) = \\frac{1}{4}$ We can notate this instead as\n",
    " $\\begin{pmatrix}\n",
    " \\frac{3}{4}\\\\\n",
    " \\frac{1}{4}\n",
    " \\end{pmatrix}$"
   ]
  },
  {
   "attachments": {},
   "cell_type": "markdown",
   "metadata": {},
   "source": [
    " ### Dirac Notation Part 1\n",
    "Let $\\Sigma$ be a classical state set and assume $\\Sigma$ is ordered in correspondence with the integers $1, ..., |\\Sigma|$\n",
    "<br></br>\n",
    "We denote by **$|a\\rangle$ (ket a)** to be the column vector corresponding to $a \\in \\Sigma$ with 0 for all other entries.\n",
    "<br></br>\n",
    "For Example for $\\Sigma = {0, 1}$ then\n",
    "$$\n",
    "    |0\\rangle = \\begin{bmatrix}\n",
    " 1\\\\\n",
    " 0\n",
    " \\end{bmatrix} \n",
    "$$\n",
    "and\n",
    "$$\n",
    " |1\\rangle = \\begin{bmatrix}\n",
    " 0\\\\\n",
    " 1\n",
    " \\end{bmatrix}\n",
    "$$\n",
    "The vectors described by ket notation are **standard basis vectors**. Every vector can be uniquely described as a linear combination of standard basis vectors. Using the example above we can write\n",
    "$$\n",
    " \\begin{pmatrix}\n",
    " \\frac{3}{4}\\\\\n",
    " \\frac{1}{4}\n",
    " \\end{pmatrix} =\n",
    " \\frac{3}{4}|0\\rangle + \\frac{1}{4}|1\\rangle\n",
    "$$"
   ]
  },
  {
   "cell_type": "code",
   "execution_count": 63,
   "metadata": {},
   "outputs": [
    {
     "name": "stdout",
     "output_type": "stream",
     "text": [
      "[[0.75]\n",
      " [0.25]]\n"
     ]
    }
   ],
   "source": [
    "ket0 = array([[1, 0]]).T\n",
    "ket1 = array([[0, 1]]).T\n",
    "prob_vector = (3/4)*ket0 + (1/4)*ket1\n",
    "print(prob_vector)"
   ]
  },
  {
   "attachments": {},
   "cell_type": "markdown",
   "metadata": {},
   "source": [
    "### Measuring probablistic States\n",
    "By *measure* we mean we check the value of a classical state. \n",
    "\n",
    "Suppose we see classical state $a \\in \\Sigma$. Then we know $$P(X = a) = 1$$\n",
    "\n",
    "This is represented by $\\ket{a}$. So measuring *collapses* the probabilistic states into basis vectors."
   ]
  },
  {
   "attachments": {},
   "cell_type": "markdown",
   "metadata": {},
   "source": [
    "### Deterministic Operations\n",
    "The outcome depends entirely on the state of the system. I.e there is no randomness. In math we say\n",
    "\n",
    "Every function $f: \\Sigma \\to \\Sigma$ describes a *determinitstic operation* that transforms the classical state $a$ into $f(a)$ for each $a \\in \\Sigma$\n",
    "\n",
    "Given any function $f: \\Sigma \\to \\Sigma$ there is a unique matrix $M$ satisfying for all $a \\in \\Sigma$\n",
    "$$\n",
    "M\\ket{a} = \\ket{f(a)}\n",
    "$$\n",
    "where\n",
    "$$\n",
    "M(b, a) = \\begin{cases} \n",
    "    1 & b = f(a)\\\\\n",
    "    0 & b \\ne f(a)\n",
    "    \\end{cases}\n",
    "$$\n",
    "This matrix has exactly one 1 in each column and 0 in all other entries. This allows us to describe the action of an operation by *matrix-vector multiplication* \n",
    "$$\n",
    "v \\mapsto Mv\n",
    "$$\n",
    "For example consider $\\Sigma = {0, 1}$ there are 4 functions of the form $f: \\Sigma \\to \\Sigma$:\n",
    "* $f_1$: $f_1(0) = 0$ and $f_1(1) = 0$ **This is the zero function** Becomes $\n",
    " M_1 = \\begin{pmatrix}\n",
    " 1 & 1\\\\\n",
    " 0 & 0\n",
    " \\end{pmatrix}$\n",
    " because $M_1[0, 0] = 1$ because $f(0) = 0$. and $M_1[0, 1] = 1$ because $f(1) = 0$. \n",
    "* $f_2$: $f_2(0) = 0$ and $f_2(1) = 1$ **This is the identity function** Becomes $\n",
    " M_2 = \\begin{pmatrix}\n",
    " 1 & 0\\\\\n",
    " 0 & 1\n",
    " \\end{pmatrix}$\n",
    "* $f_3$: $f_3(0) = 1$ and $f_3(1) = 0$ **The Not function or bit-flip** Becomes $\n",
    " M_3 = \\begin{pmatrix}\n",
    " 0 & 1\\\\\n",
    " 1 & 0\n",
    " \\end{pmatrix}$\n",
    "* $f_4$: $f_4(0) = 1$ and $f_4(1) = 1$ **The One function** Becomes $\n",
    " M_4 = \\begin{pmatrix}\n",
    " 0 & 0\\\\\n",
    " 1 & 1\n",
    " \\end{pmatrix}$\n"
   ]
  },
  {
   "cell_type": "code",
   "execution_count": 88,
   "metadata": {},
   "outputs": [
    {
     "data": {
      "text/plain": [
       "array([[0],\n",
       "       [1]])"
      ]
     },
     "execution_count": 88,
     "metadata": {},
     "output_type": "execute_result"
    }
   ],
   "source": [
    "m1 = array([[1, 1], [0, 0]])\n",
    "m2 = array([[1, 0], [0, 1]])\n",
    "m3 = array([[0, 1, ], [1, 0]])\n",
    "m4 = array([[0, 0], [1, 1]])\n",
    "matmul(m4, ket0)\n"
   ]
  },
  {
   "attachments": {},
   "cell_type": "markdown",
   "metadata": {},
   "source": [
    "### Dirac Notation (Part II)\n",
    "We denote $\\bra{a}$ as the **row vector** having 1 in the entry corresponding to $a \\in \\Sigma$, with 0 for all other entries.\n",
    "Note: A row vector times a column vector creates a single value (generally the dot product more generally called an *inner product*).\n",
    "So we can write \n",
    "$$\n",
    "\\braket{a|b} = \\begin{cases}\n",
    " 1 & a = b \\\\\n",
    " 0 & a \\ne b\n",
    "\\end{cases}\n",
    "$$\n",
    "\n",
    "A column by a row vector gives us a matrix so for binary alphabet we get a few exampels\n",
    "$$\n",
    "\\ket{0}\\bra{1} = \\begin{pmatrix}1\\\\0\\end{pmatrix}\\begin{pmatrix}1&&0\\end{pmatrix} = \n",
    "\\begin{pmatrix}\n",
    "0 & 1\\\\\n",
    "0 & 0\n",
    "\\end{pmatrix}\n",
    "$$\n",
    "We see more generally the matrix produced by $\\ket{a}\\bra{b}$ has a 1 in the $a, b$ position and a 0 everywhere else.\n"
   ]
  },
  {
   "cell_type": "code",
   "execution_count": 70,
   "metadata": {},
   "outputs": [
    {
     "data": {
      "text/plain": [
       "array([[0, 0],\n",
       "       [0, 1]])"
      ]
     },
     "execution_count": 70,
     "metadata": {},
     "output_type": "execute_result"
    }
   ],
   "source": [
    "bra0 = array([[1, 0]])\n",
    "bra1 = array([[0, 1]])\n",
    "matmul(ket1, bra1) # ket time bra makes a matrix"
   ]
  },
  {
   "attachments": {},
   "cell_type": "markdown",
   "metadata": {},
   "source": [
    "### Deterministic Operations\n",
    "We can express each matrix $M$ as \n",
    "$$\n",
    "M = \\sum_{b\\in\\Sigma}\\ket{f(b)}\\bra{b}\n",
    "$$\n",
    "Thus we know on standard basis vectors we get\n",
    "$$\n",
    "M\\bra{a} = (\\sum_{b\\in\\Sigma}\\ket{f(b)}\\bra{b})\\bra{a} = \\sum_{b\\in\\Sigma}\\ket{f(b)}\\braket{b|a}\n",
    "$$\n",
    "Then because the zeros shown above this simplifies to \n",
    "$$\n",
    "M\\bra{a} = \\sum_{b\\in\\Sigma}\\ket{f(b)}\\braket{b|a} = \\ket{f(a)}\n",
    "$$"
   ]
  },
  {
   "cell_type": "code",
   "execution_count": 73,
   "metadata": {},
   "outputs": [
    {
     "data": {
      "text/plain": [
       "array([[1, 0],\n",
       "       [0, 0]])"
      ]
     },
     "execution_count": 73,
     "metadata": {},
     "output_type": "execute_result"
    }
   ],
   "source": [
    "matmul(ket0, bra0)"
   ]
  },
  {
   "attachments": {},
   "cell_type": "markdown",
   "metadata": {},
   "source": [
    "### Probabilistic Operations\n",
    "*Probabilistic operations* are classical operations that may introduce randomness or uncertainty. Ex on a bit\n",
    "* If state is 0 do nothing\n",
    "* If state is 1 then flip with probability $\\frac{1}{2}$\n",
    "\n",
    "These operations are represented by *stochastic matrices*: \n",
    "* All entries are nonnegative real numbers\n",
    "* The entries in every column sum to 1\n",
    "* So every column creates a probability vector.\n",
    "For our example we get\n",
    "$$\n",
    "\\begin{pmatrix}\n",
    "1 & \\frac{1}{2}\\\\\n",
    "0 & \\frac{1}{2}\n",
    "\\end{pmatrix}\n",
    "$$\n",
    "Note that any probabilistic operation can be thought of as a collection of deterministic operations. For example\n",
    "$$\n",
    "\\begin{pmatrix}\n",
    "1 & \\frac{1}{2}\\\\\n",
    "0 & \\frac{1}{2}\n",
    "\\end{pmatrix} = \n",
    "\\frac{1}{2}\\begin{pmatrix}\n",
    "1 & 1\\\\\n",
    "0 & 0\n",
    "\\end{pmatrix}\n",
    "+ \n",
    "\\frac{1}{2}\\begin{pmatrix}\n",
    "1 & 0\\\\\n",
    "0 & 1\n",
    "\\end{pmatrix}\n",
    "$$\n",
    "So you can think of it as randomly choosing deterministic operations."
   ]
  },
  {
   "cell_type": "code",
   "execution_count": 75,
   "metadata": {},
   "outputs": [
    {
     "data": {
      "text/plain": [
       "array([[1. , 0.5],\n",
       "       [0. , 0.5]])"
      ]
     },
     "execution_count": 75,
     "metadata": {},
     "output_type": "execute_result"
    }
   ],
   "source": [
    "(1/2)*m1 + (1/2)*m2"
   ]
  },
  {
   "attachments": {},
   "cell_type": "markdown",
   "metadata": {},
   "source": [
    "### Composing Operations\n",
    "Suppose X is a system and $M_1, ..., M_n$ are stochastic matrices. Assume we do $M_1$ on $v$ then $M_2$ on that result. We know Matrix multiplication is associative (not commutative so M_2 is preformed on M_1 since it is done first) so \n",
    "$$\n",
    "M_2(M_1v) = (M_2M_1)v\n",
    "$$\n",
    "So the composition of all of them is $$M_n...M_1$$\n",
    "Which becomes a new stochastic matrix since they are closed over multiplication."
   ]
  }
 ],
 "metadata": {
  "kernelspec": {
   "display_name": ".venv",
   "language": "python",
   "name": "python3"
  },
  "language_info": {
   "codemirror_mode": {
    "name": "ipython",
    "version": 3
   },
   "file_extension": ".py",
   "mimetype": "text/x-python",
   "name": "python",
   "nbconvert_exporter": "python",
   "pygments_lexer": "ipython3",
   "version": "3.11.2"
  },
  "orig_nbformat": 4
 },
 "nbformat": 4,
 "nbformat_minor": 2
}
