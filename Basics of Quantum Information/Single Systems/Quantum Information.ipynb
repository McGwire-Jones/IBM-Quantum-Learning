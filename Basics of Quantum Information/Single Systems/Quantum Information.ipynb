{
 "cells": [
  {
   "cell_type": "code",
   "execution_count": 24,
   "metadata": {},
   "outputs": [],
   "source": [
    "from numpy import array, matmul, sqrt, abs\n",
    "ket0 = array([[1, 0]]).T\n",
    "ket1 = array([[0, 1]]).T\n",
    "bra0 = array([[1, 0]])\n",
    "bra1 = array([[0, 1]])\n"
   ]
  },
  {
   "attachments": {},
   "cell_type": "markdown",
   "metadata": {},
   "source": [
    "# Quantum Information"
   ]
  },
  {
   "attachments": {},
   "cell_type": "markdown",
   "metadata": {},
   "source": [
    "A *quantum state* of a system is represented by a *column vector* whose indices are placed in correspondence with the classical states of that system:\n",
    "* The entries are complex numbers\n",
    "* The sum of the absolute values squared of the entries must eqaul 1\n",
    "\n",
    "Consider the *Euclidean norm* for vectors with complex number entries.\n",
    "$$\n",
    "v = \n",
    "\\begin{pmatrix} \\alpha_1 \\\\ ... \\\\ \\alpha_n \\end{pmatrix} \\implies ||v|| = \\sqrt{\\sum_{k=1}^n|\\alpha_k|^2}\n",
    "$$\n",
    "Thus quantum state vectors are unit vectors with respect to this norm.\n",
    "\n",
    "Note we allow using braket notation for arbitrary vectors to imply row vs column. They don't have to be basis vectors.\n",
    "\n",
    "Useful examples\n",
    "$$\n",
    "\\ket{+} = \\frac{1}{\\sqrt{2}}\\ket{0} + \\frac{1}{\\sqrt{2}}\\ket{1} \n",
    "$$\n",
    "$$\n",
    "\\ket{-} = \\frac{1}{\\sqrt{2}}\\ket{0} - \\frac{1}{\\sqrt{2}}\\ket{1} \n",
    "$$"
   ]
  },
  {
   "cell_type": "code",
   "execution_count": 23,
   "metadata": {},
   "outputs": [
    {
     "data": {
      "text/plain": [
       "array([[1.+0.j]])"
      ]
     },
     "execution_count": 23,
     "metadata": {},
     "output_type": "execute_result"
    }
   ],
   "source": [
    "ketp = (1/sqrt(2))*ket0 + (1/sqrt(2))*ket1\n",
    "ketm = (1/sqrt(2))*ket0 - (1/sqrt(2))*ket1\n",
    "ket_psi = ((1 + 2j)/3)*ket0 - (2/3)*ket1\n",
    "bra_psi = ket_psi.conj().T\n",
    "matmul(bra_psi, ket_psi)\n"
   ]
  },
  {
   "attachments": {},
   "cell_type": "markdown",
   "metadata": {},
   "source": [
    "## Measure Quantum States\n",
    "Measuring allows us to extract classical information from a quantum system. \n",
    "\n",
    "We will restrict to *standard basis measurements*\n",
    "* The possible outcomes are the classical states\n",
    "* The probability for each classical state to be the outcome is the absolute value squared of the corresponding quantum state vector entry.\n",
    "\n",
    "So measuring $\\ket{+}$ gives (similar for $\\ket{-}$)\n",
    "$$\n",
    "P(X = 0) = |\\frac{1}{\\sqrt{2}}|^2 = \\frac{1}{2} \n",
    "$$\n",
    "$$\n",
    "P(X = 1) = |\\frac{1}{\\sqrt{2}}|^2 = \\frac{1}{2}\n",
    "$$\\\n",
    "We know that measuring a quantum state changes its quantum state. So after measuring it in state $a$ we get $P(X = a) = 1$. So repeated measurements return the same result. "
   ]
  },
  {
   "cell_type": "code",
   "execution_count": 29,
   "metadata": {},
   "outputs": [
    {
     "name": "stdout",
     "output_type": "stream",
     "text": [
      "[[0.5]] [[0.5]] [[0.5]] [[0.5]]\n"
     ]
    }
   ],
   "source": [
    "#before measurement\n",
    "p_ketp_is_0 = abs(matmul(bra0, ketp))**2\n",
    "p_ketp_is_1 = abs(matmul(bra1, ketp))**2\n",
    "p_ketm_is_0 = abs(matmul(bra0, ketm))**2\n",
    "p_ketm_is_1 = abs(matmul(bra1, ketm))**2\n",
    "print(p_ketp_is_0, p_ketp_is_1, p_ketm_is_0, p_ketm_is_1) #note that all probabilities add to 2. So they don't care about plus/minus state"
   ]
  },
  {
   "cell_type": "code",
   "execution_count": 30,
   "metadata": {},
   "outputs": [
    {
     "data": {
      "text/plain": [
       "array([[1.]])"
      ]
     },
     "execution_count": 30,
     "metadata": {},
     "output_type": "execute_result"
    }
   ],
   "source": [
    "prob_psi_is0 = abs(matmul(bra0, ket_psi))**2\n",
    "prob_psi_is1 = abs(matmul(bra1, ket_psi))**2\n",
    "prob_psi_is0 + prob_psi_is1"
   ]
  },
  {
   "attachments": {},
   "cell_type": "markdown",
   "metadata": {},
   "source": [
    "## Unitary Operations\n",
    "The set of allowable *operations* that can be performed on a quantum state is different than classical. The are represented by *unitary matrices*.\n",
    "\n",
    "A square matrix $U$ having complex entries is *unitary* if and only if \n",
    "$$\n",
    "U^{\\dagger}U = I = UU^{\\dagger}\n",
    "$$\n",
    "Where $U^{\\dagger}$ is the conjugate transpose of $U$ and $I$ is the identity Matrix. This is equivalent to the condition that \n",
    "$$\n",
    "||Uv|| = ||v||\n",
    "$$\n",
    "I.e if $v$ is a quantum state vector then $Uv$ is also a quantum state vector."
   ]
  },
  {
   "attachments": {},
   "cell_type": "markdown",
   "metadata": {},
   "source": [
    "## Qubit Unitary OperationsQubit Unitary Operations\n",
    "### Pauli Operations\n",
    "$$\n",
    "I = \\begin{pmatrix} 1 & 0 \\\\ 0 & 1 \\end{pmatrix} \n",
    "$$\n",
    "Identity Operation\n",
    "$$\n",
    "\\sigma_x = \\begin{pmatrix} 0 & 1 \\\\ 1 & 0 \\end{pmatrix} = X\n",
    "$$\n",
    "bit flip operation.\n",
    "$$\n",
    "\\sigma_y = \\begin{pmatrix} 0 & -i \\\\ i & 0 \\end{pmatrix} = Y\n",
    "$$\n",
    "\n",
    "$$\n",
    "\\sigma_z = \\begin{pmatrix} 1 & 0 \\\\ 0 & -1 \\end{pmatrix} = Z\n",
    "$$\n",
    "Phase flip\n",
    "\n",
    "### Hadamard Operation\n",
    "$$\n",
    "H = \\begin{pmatrix} \\frac{1}{\\sqrt{2}} & \\frac{1}{\\sqrt{2}} \\\\ \\frac{1}{\\sqrt{2}} & -\\frac{1}{\\sqrt{2}}\\end{pmatrix}\n",
    "$$\n",
    "\n",
    "### Phase Operations\n",
    "$$\n",
    "P_\\theta = \\begin{pmatrix} 1 & 0 \\\\ 0 & e^{i\\theta} \\end{pmatrix} \n",
    "$$\n",
    "For any real number $\\theta$\n"
   ]
  },
  {
   "attachments": {},
   "cell_type": "markdown",
   "metadata": {},
   "source": [
    "### Composition of Unitary Operations\n",
    "Represented by *matrix multiplication*. Similar to classical style, they are closed under multiplication. Operations are associative but not commutative."
   ]
  }
 ],
 "metadata": {
  "kernelspec": {
   "display_name": ".venv",
   "language": "python",
   "name": "python3"
  },
  "language_info": {
   "codemirror_mode": {
    "name": "ipython",
    "version": 3
   },
   "file_extension": ".py",
   "mimetype": "text/x-python",
   "name": "python",
   "nbconvert_exporter": "python",
   "pygments_lexer": "ipython3",
   "version": "3.11.2"
  },
  "orig_nbformat": 4
 },
 "nbformat": 4,
 "nbformat_minor": 2
}
