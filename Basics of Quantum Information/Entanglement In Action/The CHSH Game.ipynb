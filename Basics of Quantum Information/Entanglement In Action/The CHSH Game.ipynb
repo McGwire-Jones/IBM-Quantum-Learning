{
 "cells": [
  {
   "cell_type": "code",
   "execution_count": 4,
   "metadata": {},
   "outputs": [],
   "source": [
    "from qiskit import QuantumCircuit, QuantumRegister, ClassicalRegister\n",
    "from qiskit.primitives import Sampler\n",
    "from qiskit.visualization import plot_histogram\n",
    "from qiskit.quantum_info import Statevector, Operator\n",
    "from qiskit.circuit.library import CCXGate, CXGate\n",
    "from numpy import matmul, kron, sqrt, sin, cos, pi, array\n",
    "from numpy.linalg import norm\n",
    "%matplotlib inline"
   ]
  },
  {
   "cell_type": "markdown",
   "metadata": {},
   "source": [
    "# The CHSH Game\n",
    "Named after its authors -- John Clauser, Michael Horne, Abner Shimony, and Richard Holt. "
   ]
  },
  {
   "cell_type": "markdown",
   "metadata": {},
   "source": [
    "### Nonlocal games\n",
    "A nonlocal game is *cooperative game* where two players, Alice and Bob, work together to achieve an outcome. The game is run by a *referee*. An instance of a referee is equivalent to an instance of a game. It has the following rules\n",
    "* Once the game starts *Alice and Bob cannot communicate*\n",
    "* Before the game Alice and Bob can agree on a strategy\n",
    "* The referee asks Alice and Bob a question where $x$ is Alice's question and $y$ is Bob's question\n",
    "    * The referee uses randomness to select the question. I.e there is some $P((x, y) = (x', y'))$ for all potential $(x', y')$.\n",
    "* Alice and Bobs responses are $a$ and $b$ respectively\n",
    "* The referee then decieds whether or not Alice and Bob won based on their response $(a, b)$.\n",
    "This is shown by \n",
    "![title](CHSH_Game/nonlocal-game.png)"
   ]
  },
  {
   "cell_type": "markdown",
   "metadata": {},
   "source": [
    "### CHSH Game Description\n",
    "1. The questions and answers are all bits $x, y, a, b \\in \\{0, 1\\}$.\n",
    "2. The referee chooses the question $(x, y)$ uniformly at random. So $P((x, y) = (x', y')) = \\frac{1}{4}$\n",
    "3. The answers $(a, b)$ win for the questions $(x, y)$ if $a\\oplus b = x \\land y$ and lose otherwise so that gives us \n",
    "    - They win if the exclusive-or of their answer if equal to the and of the their questionws.\n",
    "\n",
    "| $(x, y)$ | win       | lose      |  why win                                 |\n",
    "|----------|-----------|-----------|------------------------------------------|\n",
    "| $(0, 0)$ | $a = b$   | $a \\ne b$ | $0 \\land 0 = 0 = a \\oplus a = a\\oplus b$ |\n",
    "| $(0, 1)$ | $a = b$   | $a \\ne b$ | $0 \\land 1 = 0 = a \\oplus a = a\\oplus b$ |\n",
    "| $(1, 0)$ | $a = b$   | $a \\ne b$ | $1 \\land 0 = 0 = a \\oplus a = a\\oplus b$ |\n",
    "| $(1, 1)$ | $a \\ne b$ | $a = b$   | $1 \\land 1 = 1 = a \\oplus b$             |\n"
   ]
  },
  {
   "cell_type": "markdown",
   "metadata": {},
   "source": [
    "### Deterministic Strategy\n",
    "We will write Alice and Bobs answers as functions of $x$ and $y$. i.e $a(x)$ and $b(y)$ are their answers for their questions. \n",
    "\n",
    "There is no strategy that wins every time. We can see this by checking every method. We see that they can win at most $\\frac{3}{4}$ of the time. This is quite an easy strategy of just always both answering with 1 or with 0. "
   ]
  },
  {
   "cell_type": "markdown",
   "metadata": {},
   "source": [
    "### Required Vectors and Matrices for Quantum Strategy\n",
    "$$\n",
    "\\ket{\\psi_\\theta} = \\cos{\\theta}\\ket{0} + \\sin{\\theta}\\ket{1}\n",
    "$$\n",
    "These gives some useful results\n",
    "$$\n",
    "\\ket{\\psi_0} = \\ket{0} \\\\\n",
    "\\ket{\\psi_{\\pi/2}} = \\ket{1} \\\\\n",
    "\\ket{\\psi_{\\pi/4}} = \\ket{+} \\\\\n",
    "\\ket{\\psi_{-\\pi/4}} = \\ket{-} \\\\\n",
    "\\ket{\\psi_{-\\pi/8}} = \\frac{\\sqrt{2 + \\sqrt{2}}}{2}\\ket{0} - \\frac{\\sqrt{2 - \\sqrt{2}}}{2}\\ket{1} \\\\\n",
    "\\ket{\\psi_{\\pi/8}} = \\frac{\\sqrt{2 + \\sqrt{2}}}{2}\\ket{0} + \\frac{\\sqrt{2 - \\sqrt{2}}}{2}\\ket{1} \\\\\n",
    "\\ket{\\psi_{3\\pi/8}} = \\frac{\\sqrt{2 - \\sqrt{2}}}{2}\\ket{0} + \\frac{\\sqrt{2 + \\sqrt{2}}}{2}\\ket{1} \\\\\n",
    "\\ket{\\psi_{5\\pi/8}} = -\\frac{\\sqrt{2 - \\sqrt{2}}}{2}\\ket{0} + \\frac{\\sqrt{2 + \\sqrt{2}}}{2}\\ket{1} \n",
    "$$\n",
    "It is not obvious why these are useful yet. \n",
    "\n",
    "We also note this useful formula for the inner product of two of these vector\n",
    "$$\n",
    "\\braket{\\psi_\\alpha|\\psi_\\beta} = \\cos(\\alpha)\\cos(\\beta)  + \\sin(\\alpha)\\cos(\\beta) = \\cos(\\alpha - \\beta)\n",
    "$$\n",
    "\n",
    "Similarly, if we compute the inner product of the tensor of two $\\psi_\\theta$ vectors with $\\ket{\\phi^+}$ we get \n",
    "$$\n",
    "\\braket{\\psi_\\alpha \\otimes \\psi_\\beta | \\phi^+} = \\frac{\\cos(\\alpha - \\beta)}{\\sqrt{2}}\n",
    "$$\n",
    "\n",
    "Now we define the unitary matrix $U_\\theta$ as \n",
    "$$\n",
    "U_0 = \\ket{0}\\braket{\\psi_\\theta|+|1}\\bra{\\psi_{\\theta + \\pi/2}}\n",
    "$$\n",
    "Intuitively this maps $\\psi_\\theta$ to $\\ket{0}$ and $\\psi_{\\theta + \\pi/2}$ to $\\ket{1}$.\n",
    "\n",
    "This is an example of a *rotation matrix* and it rotates two-d vectors with real number entries by an angle of $-\\theta$ We can right it in the standard rotational form as \n",
    "$$\n",
    "U_\\theta = R_y(-2\\theta) = \n",
    "\\begin{pmatrix}\n",
    "\\cos(\\theta/2) & -\\sin(\\theta/2) \\\\\n",
    "\\sin(\\theta/2) & \\cos(\\theta/2)\n",
    "\\end{pmatrix}\n",
    "$$"
   ]
  },
  {
   "cell_type": "code",
   "execution_count": 5,
   "metadata": {},
   "outputs": [
    {
     "data": {
      "text/latex": [
       "$$\n",
       "\n",
       "\\begin{bmatrix}\n",
       "1 & 0  \\\\\n",
       " 0 & 1  \\\\\n",
       " \\end{bmatrix}\n",
       "$$"
      ],
      "text/plain": [
       "<IPython.core.display.Latex object>"
      ]
     },
     "metadata": {},
     "output_type": "display_data"
    }
   ],
   "source": [
    "ket1 = Statevector.from_label(\"1\")\n",
    "ket0 = Statevector.from_label(\"0\")\n",
    "def ket_psi_theta(theta):\n",
    "    return Statevector([cos(theta), sin(theta)])\n",
    "\n",
    "def ket_times_bra(v1, v2):\n",
    "    return Operator(matmul(array([v1]).T, array([v2])))\n",
    "\n",
    "def U_theta(theta):\n",
    "    first = ket_times_bra(ket0, ket_psi_theta(theta))\n",
    "    second = ket_times_bra(ket1, ket_psi_theta(theta + (pi/2)))\n",
    "    return Operator(first + second)\n",
    "display(U_theta(0).draw(\"latex\"))\n",
    "\n"
   ]
  },
  {
   "cell_type": "markdown",
   "metadata": {},
   "source": [
    "### Describing the Quantum Strategy\n",
    "* Alice and Bob start the game sharing one ebit $AB$ in state $\\ket{\\psi^+}$.\n",
    "* For Alice\n",
    "    * If her question $x = 0$ she applies $U_0$ to $A$\n",
    "    * If her question is $x = 1$ she applies $U_{\\pi/4}$ to $A$\n",
    "* For Bob\n",
    "    * If his quesiton is $y = 0$ he applies $U_{\\pi/8}$ to $B$\n",
    "    * If his question is $y = 1$ he applies $U_{-\\pi/8}$ to $B$"
   ]
  },
  {
   "cell_type": "code",
   "execution_count": 45,
   "metadata": {},
   "outputs": [
    {
     "data": {
      "text/latex": [
       "$$0.6532814824 |00\\rangle+0.2705980501 |01\\rangle-0.2705980501 |10\\rangle+0.6532814824 |11\\rangle$$"
      ],
      "text/plain": [
       "<IPython.core.display.Latex object>"
      ]
     },
     "metadata": {},
     "output_type": "display_data"
    },
    {
     "data": {
      "text/plain": [
       "{'00': 0.42677669529663675,\n",
       " '01': 0.07322330470336316,\n",
       " '10': 0.07322330470336309,\n",
       " '11': 0.42677669529663675}"
      ]
     },
     "metadata": {},
     "output_type": "display_data"
    },
    {
     "data": {
      "text/plain": [
       "0.8535533905932735"
      ]
     },
     "metadata": {},
     "output_type": "display_data"
    }
   ],
   "source": [
    "# Assumed Questions\n",
    "x = 0\n",
    "y = 1\n",
    "I = Operator.from_label(\"I\")\n",
    "AB = Statevector([0, 1/sqrt(2), 1/sqrt(2), 0])\n",
    "AB = Statevector([1/sqrt(2), 0, 0, 1/sqrt(2)])\n",
    "# Alices turn\n",
    "if x == 0:\n",
    "    AB = AB.evolve(I ^ U_theta(0))\n",
    "else:\n",
    "    AB = AB.evolve(I ^ U_theta(pi/4))\n",
    "\n",
    "# Bobs Turn\n",
    "if y == 0:\n",
    "    AB = AB.evolve(I ^ U_theta(pi/8))\n",
    "else:\n",
    "    AB = AB.evolve(I ^ U_theta(-pi/8))\n",
    "display(AB.draw(\"latex\"))\n",
    "display(AB.probabilities_dict())\n",
    "def probability_victory(x, y, v):\n",
    "    prob_w = 0\n",
    "    probs = v.probabilities_dict()\n",
    "    for key in probs:\n",
    "        first = bool(x) and bool(y)\n",
    "        second = bool(int(key[0])) ^ bool(int(key[1]))\n",
    "        if first == second:\n",
    "            prob_w += probs[key]\n",
    "    return prob_w\n",
    "AB.probabilities_dict().keys\n",
    "display(probability_victory(x, y, AB))"
   ]
  },
  {
   "cell_type": "code",
   "execution_count": 46,
   "metadata": {},
   "outputs": [],
   "source": [
    "# Required imports\n",
    "\n",
    "from qiskit import QuantumCircuit\n",
    "from qiskit_aer.primitives import Sampler\n",
    "from numpy import pi\n",
    "from numpy.random import randint"
   ]
  },
  {
   "cell_type": "code",
   "execution_count": 47,
   "metadata": {},
   "outputs": [],
   "source": [
    "# Now lets do it with a circuit and a Rotation matrix\n",
    "def chsh_game(strategy):\n",
    "    \"\"\"\n",
    "    strategy: is a function that takes 2 bits as ints and returns two bits as ints. \n",
    "    Return 1 for a win, 0 for a loss\n",
    "    \"\"\"\n",
    "    # randomly chosen x and y\n",
    "    x, y = randint(0, 2), randint(0, 2)\n",
    "\n",
    "    # use the strategy to get a, b\n",
    "    a, b = strategy(x, y)\n",
    "    if (a != b) == (x & y):\n",
    "        return 1\n",
    "    return 0"
   ]
  },
  {
   "cell_type": "code",
   "execution_count": 49,
   "metadata": {},
   "outputs": [
    {
     "data": {
      "image/png": "[encoded data removed]",
      "text/plain": [
       "<Figure size 621.739x284.278 with 1 Axes>"
      ]
     },
     "metadata": {},
     "output_type": "display_data"
    }
   ],
   "source": [
    "def chsh_circuit(x, y):\n",
    "    qc = QuantumCircuit(2, 2)\n",
    "    # put in phi+ state\n",
    "    qc.h(0)\n",
    "    qc.cx(0, 1)\n",
    "    qc.barrier()\n",
    "\n",
    "    # Alice\n",
    "    if x == 0:\n",
    "        qc.ry(0, 0)\n",
    "    else:\n",
    "        qc.ry(-pi/2, 0)\n",
    "    qc.measure(0, 0)\n",
    "\n",
    "    #Bob\n",
    "    if y == 0:\n",
    "        qc.ry(-pi/4, 1)\n",
    "    else:\n",
    "        qc.ry(pi/4, 1)\n",
    "    qc.measure(1, 1)\n",
    "\n",
    "    return qc\n",
    "\n",
    "display(chsh_circuit(0, 0).draw(\"mpl\"))"
   ]
  },
  {
   "cell_type": "code",
   "execution_count": 54,
   "metadata": {},
   "outputs": [],
   "source": [
    "sampler = Sampler()\n",
    "\n",
    "def quantum_strategy(x, y):\n",
    "    results = sampler.run(chsh_circuit(x, y), shots=1).result()\n",
    "    statistics = results.quasi_dists[0].binary_probabilities()\n",
    "    bits = list(statistics.keys())[0]\n",
    "    a, b = bits[0], bits[1]\n",
    "    return a, b"
   ]
  },
  {
   "cell_type": "code",
   "execution_count": 55,
   "metadata": {},
   "outputs": [
    {
     "name": "stdout",
     "output_type": "stream",
     "text": [
      "Fraction of games won:  0.853\n"
     ]
    }
   ],
   "source": [
    "NUM_GAMES = 1000\n",
    "TOTAL_SCORE = 0\n",
    "for i in range(NUM_GAMES):\n",
    "    TOTAL_SCORE += chsh_game(quantum_strategy)\n",
    "\n",
    "print(\"Fraction of games won: \",  TOTAL_SCORE / NUM_GAMES)"
   ]
  }
 ],
 "metadata": {
  "kernelspec": {
   "display_name": ".venv",
   "language": "python",
   "name": "python3"
  },
  "language_info": {
   "codemirror_mode": {
    "name": "ipython",
    "version": 3
   },
   "file_extension": ".py",
   "mimetype": "text/x-python",
   "name": "python",
   "nbconvert_exporter": "python",
   "pygments_lexer": "ipython3",
   "version": "3.11.2"
  }
 },
 "nbformat": 4,
 "nbformat_minor": 2
}
