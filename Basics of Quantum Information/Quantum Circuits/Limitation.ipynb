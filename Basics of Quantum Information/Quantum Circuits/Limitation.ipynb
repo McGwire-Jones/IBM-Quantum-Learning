{
 "cells": [
  {
   "cell_type": "code",
   "execution_count": null,
   "metadata": {},
   "outputs": [],
   "source": []
  },
  {
   "cell_type": "markdown",
   "metadata": {},
   "source": [
    "# Limitations on Quantum Information"
   ]
  },
  {
   "cell_type": "markdown",
   "metadata": {},
   "source": [
    "### Irrelevance of global phases\n",
    "Suppose that $\\ket{\\psi}$ and $\\ket{\\phi}$ are quantum state vectors (QSV) satisfying\n",
    "$$\n",
    "\\ket{\\phi} = \\alpha\\ket{\\psi}\n",
    "$$\n",
    "The states $\\ket{\\psi}$ and $\\ket{\\phi}$ are said to *differ by a global phase*. Since QSVs have a euclidean norm of 1 this requires $|\\alpha|$ = 1 or $\\alpha = e^{i\\theta}$ for some real number $\\theta$. When this happens we see\n",
    "$$\n",
    "P(\\ket{\\phi} = a)  \\\\\n",
    "= |\\braket{a|\\phi}|^2 \\\\\n",
    "= |\\alpha \\braket{a|\\psi}|^2 \\\\\n",
    "= |\\alpha|^2 |\\braket{a|\\psi}|^2 \\\\\n",
    "= |\\braket{a|\\psi}|^2 \\\\\n",
    "P(\\ket{\\psi} = a)\n",
    "$$\n",
    "so there is no difference in different outcomes for the two states. And there is no way to tell the difference by measure. Same with unitary operations\n",
    "$$\n",
    "U\\ket{\\phi} = \\alpha(U\\ket{\\psi})\n",
    "$$\n",
    "Consequently, two QSVs $\\ket{\\psi}$ and $\\ket{\\phi}$ that differ by global phase are *completely indistinguishable* and are considered to be *equivalent*. \n",
    "Ex) \n",
    "$$\n",
    "\\ket{-} = \\frac{1}{\\sqrt{2}} \\ket{0} - \\frac{1}{\\sqrt{2}}\\ket{1} \\\\\n",
    "-\\ket{-} = -\\frac{1}{\\sqrt{2}} \\ket{0} + \\frac{1}{\\sqrt{2}}\\ket{1} \n",
    "$$\n",
    "Differ by a global phase with $\\alpha = -1$."
   ]
  },
  {
   "cell_type": "markdown",
   "metadata": {},
   "source": [
    "### No Cloning Theorem (a concrete definition)\n",
    "Let $X$ and $Y$ both have the classical state set $\\{0, \\dots, d -1 \\}$, where $d \\ge 2$. There does not exist a unitary operation $U$ on the pair $XY$ such that \n",
    "$$\n",
    "\\forall \\ket{\\psi}: U(\\ket{\\psi} \\otimes \\ket{0}) = \\ket{\\psi} \\otimes \\ket{\\psi}\n",
    "$$\n",
    "This says: there's no unitary opertation we can apply to $XY$ that after initializing $Y$ to 0 we copy $X$ so we end up with $XX$. I.e $X0 \\to XX$ does not always work.\n",
    "\n",
    "Notes: \n",
    "* There are approximate forms of cloning with strong limits on how well they work. \n",
    "* Copying/cloning of standard basis states is possible: example controlled not gate\n",
    "* Cloning a probabilistic state is also impossible in the classical sense."
   ]
  },
  {
   "cell_type": "markdown",
   "metadata": {},
   "source": [
    "### Non-orthogonal states cannot be perfectly discriminated\n",
    "It is not possible to *perfectly discriminate* two non-orthogonal quantum states.\n",
    "So if two states can be perfectly discriminated they must be orthogonal. \n",
    "\n",
    "Two states $\\ket{\\psi}$ and $\\ket{\\phi}$ can be perfectly discriminated if there is a unitary operation such that passing $\\ket{\\psi}$ always gives 1 output and passing $\\ket{\\phi}$ always gives another output. As shown below\n",
    "![title](Images/discriminate.png)\n"
   ]
  }
 ],
 "metadata": {
  "language_info": {
   "name": "python"
  }
 },
 "nbformat": 4,
 "nbformat_minor": 2
}
