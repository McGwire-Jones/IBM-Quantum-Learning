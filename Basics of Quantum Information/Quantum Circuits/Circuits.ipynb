{
 "cells": [
  {
   "cell_type": "code",
   "execution_count": 1,
   "metadata": {},
   "outputs": [],
   "source": [
    "from IPython.display import Image\n",
    "from qiskit import QuantumCircuit, QuantumRegister, ClassicalRegister\n",
    "from qiskit.primitives import Sampler\n",
    "from qiskit.visualization import plot_histogram\n",
    "from qiskit.quantum_info import Statevector, Operator\n",
    "from numpy import matmul, kron\n",
    "%matplotlib inline"
   ]
  },
  {
   "cell_type": "markdown",
   "metadata": {},
   "source": [
    "# Circuits\n",
    "In Computer science a *circuit* is a model of computation in which data is carried through wires and gates where gates represent operations on the data. "
   ]
  },
  {
   "cell_type": "markdown",
   "metadata": {},
   "source": [
    "### Boolean Circuits"
   ]
  },
  {
   "cell_type": "code",
   "execution_count": 2,
   "metadata": {},
   "outputs": [
    {
     "data": {
      "image/png": "[encoded data removed]",
      "text/plain": [
       "<IPython.core.display.Image object>"
      ]
     },
     "execution_count": 2,
     "metadata": {},
     "output_type": "execute_result"
    }
   ],
   "source": [
    "Image(filename='Images/Boolean-circuit-XOR.png') "
   ]
  },
  {
   "cell_type": "markdown",
   "metadata": {},
   "source": [
    "The above is an example of a boolean circuit where the gates represent boolean logic operators (not, And, or). The two small circles represent *fanout* operations which create a copy of the information so that it can follow multiple paths. In classical circuits they are generally considered free but for quantum circuits they will need to be treated as gates to account for them correctly. \n",
    "\n",
    "The same circuit can be represented symbolically as is more common in electrical engineering."
   ]
  },
  {
   "cell_type": "code",
   "execution_count": 3,
   "metadata": {},
   "outputs": [
    {
     "data": {
      "image/png": "[encoded data removed]",
      "text/plain": [
       "<IPython.core.display.Image object>"
      ]
     },
     "execution_count": 3,
     "metadata": {},
     "output_type": "execute_result"
    }
   ],
   "source": [
    "Image(filename='Images/Boolean-circuit-classic.png') "
   ]
  },
  {
   "cell_type": "markdown",
   "metadata": {},
   "source": [
    "We won't use the ee style much in these lectures. The circuit we've been looking at computes the *exclusive-or* or XOR. Denoted $\\oplus$. \n",
    "\n",
    " $ab$ | $a \\oplus b$ \n",
    " --- | ---|\n",
    "$00$ | $0$ \n",
    "$01$ | $1$  \n",
    "$10$ | $1$ \n",
    "$11$ | $0$ \n"
   ]
  },
  {
   "cell_type": "markdown",
   "metadata": {},
   "source": [
    "### Quantum Circuits\n",
    "Now lets look at quantum circuits with *unitary* operators. Take the below as an example. "
   ]
  },
  {
   "cell_type": "code",
   "execution_count": 4,
   "metadata": {},
   "outputs": [
    {
     "data": {
      "image/png": "[encoded data removed]",
      "text/plain": [
       "<IPython.core.display.Image object>"
      ]
     },
     "execution_count": 4,
     "metadata": {},
     "output_type": "execute_result"
    }
   ],
   "source": [
    "Image(filename='Images/simple-quantum-circuit.png') "
   ]
  },
  {
   "cell_type": "markdown",
   "metadata": {},
   "source": [
    "This circuit takes a qubit $X$ then preforms 4 *unitary* operations. It does a Hadamard, an S, another Hadamard, and a T operations. Sometimes we want to explicitely indicate the state the operations are run on. \n",
    "\n",
    "![title](Images/simple-quantum-circuit-evaluated.png)\n"
   ]
  },
  {
   "cell_type": "code",
   "execution_count": 5,
   "metadata": {},
   "outputs": [
    {
     "data": {
      "text/latex": [
       "$$ |0\\rangle$$"
      ],
      "text/plain": [
       "<IPython.core.display.Latex object>"
      ]
     },
     "metadata": {},
     "output_type": "display_data"
    },
    {
     "data": {
      "text/latex": [
       "$$\n",
       "\n",
       "\\begin{bmatrix}\n",
       "\\frac{\\sqrt{2}}{2} & \\frac{\\sqrt{2}}{2}  \\\\\n",
       " \\frac{\\sqrt{2}}{2} & - \\frac{\\sqrt{2}}{2}  \\\\\n",
       " \\end{bmatrix}\n",
       "$$"
      ],
      "text/plain": [
       "<IPython.core.display.Latex object>"
      ]
     },
     "metadata": {},
     "output_type": "display_data"
    },
    {
     "data": {
      "text/latex": [
       "$$(\\frac{1}{2} + \\frac{i}{2}) |0\\rangle+\\frac{\\sqrt{2}}{2} |1\\rangle$$"
      ],
      "text/plain": [
       "<IPython.core.display.Latex object>"
      ]
     },
     "metadata": {},
     "output_type": "display_data"
    }
   ],
   "source": [
    "# from vectors and operators\n",
    "ket0 = Statevector([1, 0])\n",
    "H = Operator.from_label(\"H\")\n",
    "S = Operator.from_label(\"S\")\n",
    "T = Operator.from_label(\"T\")\n",
    "\n",
    "display(ket0.draw(\"latex\"))\n",
    "display(H.draw(\"latex\"))\n",
    "display(ket0.evolve(H).evolve(S).evolve(H).evolve(T).draw(\"latex\"))"
   ]
  },
  {
   "cell_type": "code",
   "execution_count": 6,
   "metadata": {},
   "outputs": [
    {
     "data": {
      "image/png": "[encoded data removed]",
      "text/plain": [
       "<Figure size 143.647x117.056 with 1 Axes>"
      ]
     },
     "metadata": {},
     "output_type": "display_data"
    },
    {
     "data": {
      "image/png": "[encoded data removed]",
      "text/plain": [
       "<Figure size 436.286x117.056 with 1 Axes>"
      ]
     },
     "metadata": {},
     "output_type": "display_data"
    },
    {
     "data": {
      "image/png": "[encoded data removed]",
      "text/plain": [
       "<Figure size 145.243x117.056 with 1 Axes>"
      ]
     },
     "metadata": {},
     "output_type": "display_data"
    },
    {
     "data": {
      "image/png": "[encoded data removed]",
      "text/plain": [
       "<Figure size 437.882x117.056 with 1 Axes>"
      ]
     },
     "metadata": {},
     "output_type": "display_data"
    }
   ],
   "source": [
    "# defined as a circuit\n",
    "c = QuantumCircuit(1) # takes the number of inputs\n",
    "display(c.draw(\"mpl\"))\n",
    "c.h(0)\n",
    "c.s(0)\n",
    "c.h(0)\n",
    "c.t(0)\n",
    "display(c.draw(\"mpl\"))\n",
    "# The default name of the qubits are q_n we can change this by doing \n",
    "X = QuantumRegister(1, \"X\")\n",
    "c2 = QuantumCircuit(X) # takes the number of inputs\n",
    "display(c2.draw(\"mpl\"))\n",
    "c2.h(0)\n",
    "c2.s(0)\n",
    "c2.h(0)\n",
    "c2.t(0)\n",
    "display(c2.draw(\"mpl\"))"
   ]
  },
  {
   "cell_type": "markdown",
   "metadata": {},
   "source": [
    "Now lets look at a quantum circuit with 2 qubits. \n",
    "![title](Images/ebit-circuit.png)\n",
    "\n",
    "Once again the $H$ refers to the hadamard operation while $\\oplus$ is a 2-qubit gate that is a *controlled-not* operation where the $\\oplus$ denotes the target bit and the solid circle is the control bit. "
   ]
  },
  {
   "cell_type": "markdown",
   "metadata": {},
   "source": [
    "### Qiskit's qubit ordering convention for circuits\n",
    "In Qiskit the topmost qubit in a ciruit diagram has index 0 and correspond to the *rightmost* position in a tuple of qubits. The second has index 1 and is the qubit second from the right in the tuple and so on. Then the bottommost qubit has the highest index and represents the leftmost qubit. So they are represented ($q_{n-1}\\dots q_0$)."
   ]
  },
  {
   "cell_type": "markdown",
   "metadata": {},
   "source": [
    "Back to the above circuit. Lets assume $X$ starts in $\\ket{\\psi}$ and $Y$ starts in $\\ket{\\phi}$. We then go left to right on the operations. So first Hadamard is applied to $Y$ then controlled not is applied on $XY$. We can combine these operations by combining the two qbits into 1 system. \n",
    "\n",
    "So we would take $I\\otimes H$ for the first operation then compose with the controlled not operation $N$\n",
    "$$\n",
    "U \\\\\n",
    "= N I \\otimes H   \\\\\n",
    "= \n",
    "\\begin{pmatrix}\n",
    "1 & 0 & 0 & 0 \\\\\n",
    "0 & 0 & 0 & 1 \\\\\n",
    "0 & 0 & 1 & 0 \\\\\n",
    "0 & 1 & 0 & 0 \\\\\n",
    "\\end{pmatrix}\n",
    "\\begin{pmatrix}\n",
    "\\frac{1}{\\sqrt{2}} & \\frac{1}{\\sqrt{2}}  & 0 & 0 \\\\\n",
    "\\frac{1}{\\sqrt{2}}  & -\\frac{1}{\\sqrt{2}}  & 0 & 0 \\\\\n",
    "0 & 0 & \\frac{1}{\\sqrt{2}}  & \\frac{1}{\\sqrt{2}}  \\\\\n",
    "0 & 0 & \\frac{1}{\\sqrt{2}}  & -\\frac{1}{\\sqrt{2}}  \\\\\n",
    "\\end{pmatrix} \\\\\n",
    "=\n",
    "\\begin{pmatrix}\n",
    "\\frac{1}{\\sqrt{2}} & \\frac{1}{\\sqrt{2}}  & 0 & 0 \\\\\n",
    "0  & 0  & \\frac{1}{\\sqrt{2}}  & -\\frac{1}{\\sqrt{2}}  \\\\\n",
    "0 & 0 & \\frac{1}{\\sqrt{2}}  & \\frac{1}{\\sqrt{2}}  \\\\\n",
    "\\frac{1}{\\sqrt{2}} & -\\frac{1}{\\sqrt{2}} & 0 & 0 \\\\\n",
    "\\end{pmatrix}\n",
    "$$\n",
    "We notice that this can be written as Bell states. \n",
    "$$\n",
    "U\\ket{00} = \\ket{\\phi^+} \\\\\n",
    "U\\ket{01} = \\ket{\\phi^-} \\\\\n",
    "U\\ket{10} = \\ket{\\psi^+} \\\\\n",
    "U\\ket{11} = -\\ket{\\psi^-} \\\\\n",
    "$$\n",
    "This means we can generate bell states given two qubits that start in $\\ket{00}$."
   ]
  },
  {
   "cell_type": "code",
   "execution_count": 7,
   "metadata": {},
   "outputs": [
    {
     "data": {
      "text/latex": [
       "$$\\frac{\\sqrt{2}}{2} |00\\rangle+\\frac{\\sqrt{2}}{2} |11\\rangle$$"
      ],
      "text/plain": [
       "<IPython.core.display.Latex object>"
      ]
     },
     "metadata": {},
     "output_type": "display_data"
    },
    {
     "data": {
      "text/latex": [
       "$$\\frac{\\sqrt{2}}{2} |00\\rangle+\\frac{\\sqrt{2}}{2} |11\\rangle$$"
      ],
      "text/plain": [
       "<IPython.core.display.Latex object>"
      ]
     },
     "metadata": {},
     "output_type": "display_data"
    },
    {
     "name": "stdout",
     "output_type": "stream",
     "text": [
      "0 0 True\n",
      "0 1 True\n",
      "1 0 True\n",
      "1 1 True\n"
     ]
    }
   ],
   "source": [
    "# See above Bell states for correct answer depending on X and Y\n",
    "X = Statevector([1, 0])\n",
    "Y = Statevector([1, 0])\n",
    "control_not = Operator([[1, 0, 0, 0], [0, 0, 0, 1], [0, 0, 1, 0], [0, 1, 0, 0]])\n",
    "H = Operator.from_label(\"H\")\n",
    "I = Operator.from_label(\"I\")\n",
    "\n",
    "# one at a time\n",
    "def in_order(X, Y):\n",
    "    return X.tensor(Y.evolve(H)).evolve(control_not)\n",
    "display(in_order(X, Y).draw(\"latex\"))\n",
    "\n",
    "## alternatively we can tensor the opertations first\n",
    "combined_operator = I.tensor(H).compose(control_not)\n",
    "def combined(X, Y):\n",
    "    return X.tensor(Y).evolve(combined_operator)\n",
    "display(combined(X, Y).draw(\"latex\"))\n",
    "\n",
    "for i in [0, 1]:\n",
    "    for j in [0, 1]:\n",
    "        V = Statevector([i, j])\n",
    "        U = Statevector([i, j])\n",
    "        print(i, j, combined(V, U) == in_order(V, U))"
   ]
  },
  {
   "cell_type": "markdown",
   "metadata": {},
   "source": [
    "We can also include classical bits in Quantum Diagrams. They are indicated by Double lines as shown\n",
    "![title](Images/ebit-circuit-measured.png)\n",
    "So A and B are classical bits and Y and X are Q-bits. The speedometer looking gate is a measurement. So Y is measured into B and X is measured into A. \n",
    "\n",
    "We can also use shorthand because we don't care what happens after measurement.\n",
    "![title](Images/ebit-circuit-measured-compact.png)\n",
    "\n",
    "\n"
   ]
  },
  {
   "cell_type": "code",
   "execution_count": 26,
   "metadata": {},
   "outputs": [
    {
     "data": {
      "image/png": "[encoded data removed]",
      "text/plain": [
       "<Figure size 437.882x367.889 with 1 Axes>"
      ]
     },
     "metadata": {},
     "output_type": "display_data"
    },
    {
     "data": {
      "image/png": "[encoded data removed]",
      "text/plain": [
       "<Figure size 700x500 with 1 Axes>"
      ]
     },
     "metadata": {},
     "output_type": "display_data"
    }
   ],
   "source": [
    "# As a circuit we have to take measurements\n",
    "X = QuantumRegister(1, \"X\")\n",
    "Y = QuantumRegister(1, \"Y\")\n",
    "A = ClassicalRegister(1, \"A\")\n",
    "B = ClassicalRegister(1, \"B\")\n",
    "\n",
    "circuit = QuantumCircuit(Y, X, B, A)\n",
    "circuit.h(Y)\n",
    "circuit.cx(Y, X)\n",
    "circuit.measure(Y, B)\n",
    "circuit.measure(X, A)\n",
    "\n",
    "display(circuit.draw(\"mpl\"))\n",
    "# can be sampled using Sampler\n",
    "results = Sampler().run(circuit).result()\n",
    "\n",
    "data = results.quasi_dists[0].binary_probabilities()\n",
    "display(plot_histogram(data))\n"
   ]
  },
  {
   "cell_type": "markdown",
   "metadata": {},
   "source": [
    "## Common Gates\n",
    "Single qubit gates are \n",
    "![title](Images/single-qubit-gates.png)\n",
    "\n",
    "Swap Gate\n",
    "![title](Images/swap-gate.png)\n",
    "\n",
    "Not Gate\n",
    "![title](Images/not-gate.png)\n",
    "\n",
    "Control gates - control bit is the solid circle\n",
    "* Controlled-NOT\n",
    "* Controlled-controlled-Not (Toffoli)\n",
    "* Controlled-Swap (Fredkin)\n",
    "\n",
    "![title](Images/controlled-gates.png)\n",
    "\n",
    "Arbitrary Unitary Operations on multiple qubits\n",
    "![title](Images/uncontrolled-and-controlled-unitary.png)\n"
   ]
  }
 ],
 "metadata": {
  "kernelspec": {
   "display_name": "venv",
   "language": "python",
   "name": "python3"
  },
  "language_info": {
   "codemirror_mode": {
    "name": "ipython",
    "version": 3
   },
   "file_extension": ".py",
   "mimetype": "text/x-python",
   "name": "python",
   "nbconvert_exporter": "python",
   "pygments_lexer": "ipython3",
   "version": "3.11.2"
  }
 },
 "nbformat": 4,
 "nbformat_minor": 2
}
