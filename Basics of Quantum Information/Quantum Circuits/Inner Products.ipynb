{
 "cells": [
  {
   "cell_type": "code",
   "execution_count": 14,
   "metadata": {},
   "outputs": [],
   "source": [
    "from qiskit import QuantumCircuit, QuantumRegister, ClassicalRegister"
   ]
  },
  {
   "cell_type": "markdown",
   "metadata": {},
   "source": [
    "# Inner Products, Orthonormality, and Projections"
   ]
  },
  {
   "cell_type": "markdown",
   "metadata": {},
   "source": [
    "Remember a $\\ket{\\psi}$ is a column vector and $\\bra{\\psi}$ is a row vector and is the conjugate transpose of $\\ket{\\psi}$. So $\\bra{\\psi} = (\\ket{\\psi})^\\dagger$. Or for some classical states $\\Sigma$.\n",
    "$$\n",
    "\\ket{\\psi} = \\sum_{a \\in\\Sigma} \\alpha_a \\ket{a} \\text{ then bra is the conjugate transpose} \\\\\n",
    "\\bra{\\psi} = \\sum_{a \\in \\Sigma} \\bar{\\alpha_a} \\bra{a}\n",
    "$$\n",
    "Suppose we have $\\ket{\\psi} = \\sum_{a\\in\\Sigma} \\alpha_a \\ket{a}$ and $\\ket{\\phi} = \\sum_{b\\in\\Gamma} \\beta_b\\ket{b}$ each with $n$ classical states. Then we know that \n",
    "$$\n",
    "\\braket{\\psi|\\phi} = \n",
    "\\begin{pmatrix}\n",
    "\\bar{\\alpha_1} \\dots \\bar{\\alpha_n}\n",
    "\\end{pmatrix}\n",
    "\\begin{pmatrix}\n",
    "\\bar{\\beta_1}\\\\ \\dots \\\\ \\bar{\\beta_n}\n",
    "\\end{pmatrix} \\\\\n",
    "= \\bar{\\alpha_1}\\beta_1 + \\dots + \\bar{\\alpha_n}\\beta_n \\\\\n",
    "= \\sum_{a\\in\\Sigma}\\sum_{b\\in\\Gamma} \\bar{\\alpha_a}\\beta_b \\braket{a|b} \n",
    "\\text{ note } \\braket{a|a} = 1 \\text{ and } \\braket{a|b} = 0 \\text{ thus}\\\\\n",
    "= \\sum_{a\\in \\Sigma} \\bar{\\alpha_a}\\beta_a\n",
    "$$\n",
    "aka your standard dot product."
   ]
  },
  {
   "cell_type": "markdown",
   "metadata": {},
   "source": [
    "### Basic Facts of Inner Product\n",
    "* The inner product of a vector with itself is the *Euclidean Norm*\n",
    "$$\n",
    "\\braket{\\psi|\\psi} = \\sum \\bar{\\alpha_a} \\alpha_a = \\sum |\\alpha_a|^2 = ||\\ket{\\psi}||^2\n",
    "$$\n",
    "* **Conjugate Symmetry** for any two vectors we have \n",
    "$$\n",
    "\\bar{\\braket{\\psi|\\phi}} = \\braket{\\phi|\\psi}\n",
    "$$\n",
    "* *Linearity in the second argument (and conjugate linearity in the first)\n",
    "$$\n",
    "\\text{If } \\ket{\\phi} = \\alpha_1 \\ket{\\phi_1} + \\alpha_2 \\ket{\\phi_2} \\text{ Then } \\\\\n",
    "\\braket{\\psi|\\phi} \\\\\n",
    "= \\braket{\\psi|(\\alpha_1 \\ket{\\phi_1} + \\alpha_2 \\ket{\\phi_2})} \\\\\n",
    "= \\alpha_1\\braket{\\psi|\\phi_1} + \\alpha_2\\braket{\\psi|\\phi_2}\n",
    "$$\n",
    "Similarly you can do the same to the first argument just conjugate $\\alpha_1$ and $\\alpha_2$.\n",
    "* **The Couchy-Schwarz Inequality**. For every vector $\\ket{\\phi}$ and $\\ket{\\psi}$ with the same number of entries we have \n",
    "$$\n",
    "|\\braket{\\psi|\\phi}| \\le ||\\ket{\\psi}||||\\ket{\\phi}||\n",
    "$$\n",
    "i.e the magnitude of the inner product is less than or equal to the product of the euclidean norms of the vector. They will only be equal if one of the vectors is equal to some scaler times the other (aka parallel).\n"
   ]
  },
  {
   "cell_type": "markdown",
   "metadata": {},
   "source": [
    "### Orthogonal and Orthonormal Sets\n",
    "Two vectors $\\ket{\\psi}$ and $\\ket{\\phi}$ are *orthogonal* if their inner product is zero. Can be thought of as perpindicular. \n",
    "\n",
    "An *orthogonal set* is a set of vectors where all pairs of paris are orthogonal.\n",
    "\n",
    "An *orthonormal set* is an orthogonal set of unit vectors. \n",
    "\n",
    "An *orthonormal basis* is an orthonormal set that is also a basis for a given vector space. \n",
    "\n",
    "For example $\\{\\ket{+}, \\ket{-}\\}$ form an orthonormal basis for the 2d space of a single qubit. The bell basis is an orthonormal basis for the 4d space of 2 qubits. And for any classical state set $\\Sigma$ the set of all standard basis vectors $\\{\\ket{a} : a \\in \\Sigma\\}$ is an orthonormal basis.\n",
    "\n",
    "Fact\n",
    "Given an orthonormal set of vectors $\\{\\ket{\\psi_1}, \\dots , \\ket{\\psi_m}\\}$ in $n$ dimensional space. If $m < n$ then there must exist vectors \n",
    "$$\n",
    "\\ket{\\psi_{m+1}}, \\dots, \\ket{\\psi_n}\n",
    "$$\n",
    "such that $\\{\\ket{\\psi_1}, \\dots, \\ket{\\psi_n}\\}$ is an orthonormal basis.\n",
    "\n",
    "The orthonormal basis can be found using the *Gram-Schmidt* orthogonalization process."
   ]
  },
  {
   "cell_type": "markdown",
   "metadata": {},
   "source": [
    "### Orthonormal sets and unitary matrices\n",
    "For any square matrix $U$ the following are equivalent. \n",
    "1. The matrix $U$ is unitary (i.e., $U\\dagger U = I = U U\\dagger$)\n",
    "2. The rows of $U$ form an orthonormal set.\n",
    "3. The columns of $U$ form an orthonormal set."
   ]
  },
  {
   "cell_type": "markdown",
   "metadata": {},
   "source": [
    "### Projection Matrices\n",
    "A square matrix $\\Pi$ is called a *projection* if it satisfies \n",
    "1. $\\Pi = \\Pi^\\dagger$ (Hermitian)\n",
    "2. $\\Pi^2 = \\Pi$ (Idempotent)\n",
    "\n",
    "Matrices that satisfy the first condition are called *Hermitian matrices* and matrices that satify the second are *idempotent* matrices.\n",
    "\n",
    "These can be thought of as projecting an image onto a screen. You leave part of it alone but zero out the rest. So doing it once makes a change but again does not. \n",
    "\n",
    "An example it $\\Pi = \\ket{\\psi}\\bra{\\psi}$ for any unit vector $\\ket{\\psi}$. Remember $(AB)^\\dagger = B^\\dagger A^\\dagger$.\n",
    "$$\n",
    "\\Pi^\\dagger \\\\\n",
    "= (\\ket{\\psi}\\bra{\\psi})^\\dagger \\\\\n",
    "= (\\bra{\\psi})^\\dagger (\\ket{\\psi})^\\dagger \\\\\n",
    "= \\ket{\\psi}\\bra{\\psi} \\\\\n",
    "= \\Pi\n",
    "$$\n",
    "To prove condition 2 remember $\\ket{\\psi}$ is a unit vector.\n",
    "$$\n",
    "\\Pi^2 \\\\\n",
    "= (\\ket{\\psi}\\bra{\\psi})^2 \\\\\n",
    "= \\ket{\\psi} \\braket{\\psi|\\psi}\\bra{\\psi} \\\\\n",
    "= \\ket{\\psi}\\bra{\\psi} \\\\\n",
    "= \\Pi\n",
    "$$\n",
    "More generally if $\\{\\ket{\\psi_1}, \\dots \\ket{\\psi_m}\\}$ is any orthonormal set of vectors then the matrix \n",
    "$$\n",
    "\\Pi = \\sum_{k =1}^m \\ket{\\psi_k}\\bra{\\psi_k}\n",
    "$$\n",
    "is a projection.\n",
    "\n"
   ]
  },
  {
   "cell_type": "markdown",
   "metadata": {},
   "source": [
    "### Projective Measurements\n",
    "Assume $\\Sigma$ is a finite non-empty set of classical states. A collection of projections $\\{\\Pi_k : k \\in \\Sigma\\}$ that satisfies\n",
    "$$\n",
    "\\sum_{k\\in\\Sigma} \\Pi_k = I\n",
    "$$\n",
    "describes a *projective measurement*.\n",
    "\n",
    "When you measure a quantum state $\\ket{\\psi}$ two things happen.\n",
    "1. For each $k \\in \\mathbf{N} < m$ the outcome of the measurement is $k$ with probability equal to \n",
    "$$\n",
    "P(\\ket{\\psi} = k) = ||\\Pi_k\\ket{\\psi}||^2\n",
    "$$\n",
    "2. For whichever outcome $k$ the measurement produces the state of $X$ becomes \n",
    "$$\n",
    "\\frac{\\Pi_k\\ket{\\psi}}{||\\Pi_k\\ket{\\psi}||}\n",
    "$$\n",
    "\n",
    "Any projective measurements can be implemetned using unitary operation and standard basis measurements. "
   ]
  },
  {
   "cell_type": "markdown",
   "metadata": {},
   "source": [
    "### Example of Projective Measurement\n",
    "Consider the two qubit case $(X, Y)$ with projective measurement $\\{\\Pi_0, \\Pi_1\\}$ which will consist of the bell states where\n",
    "$$\n",
    "\\Pi_0 = \\ket{\\phi^+}\\bra{\\phi^+} + \\ket{\\phi^-}\\bra{\\phi^-} + \\ket{\\psi^+}\\bra{\\psi^+} \\\\\n",
    "\\Pi_1 = \\ket{\\psi^-}\\bra{\\psi^-}\n",
    "$$\n",
    "This is interesting because $\\Pi_0$ projects onto the space spanned by the symmetric bell states and $\\Pi_1$ projects onto the space spanned by the anti-symmetric bell state (The one that get negated when swapped).\n",
    "\n",
    "Any projective measurement can be implemented by unitary operations and standard basis measurements. This one can be represented by a circuit with a Hadamard, a Fredkin, and another Hadamard. Measuring the bottom qubit is equivalent to measuring the top 2 with the projective measurement (Why is not shown here). "
   ]
  },
  {
   "cell_type": "code",
   "execution_count": 13,
   "metadata": {},
   "outputs": [
    {
     "data": {
      "image/png": "[encoded data removed]",
      "text/plain": [
       "<Figure size 437.882x367.889 with 1 Axes>"
      ]
     },
     "metadata": {},
     "output_type": "display_data"
    }
   ],
   "source": [
    "X = QuantumRegister(1, \"X\")\n",
    "Y = QuantumRegister(1, \"Y\")\n",
    "Z = QuantumRegister(1, \"Z\")\n",
    "A = ClassicalRegister(1, \"A\")\n",
    "\n",
    "c = QuantumCircuit(X, Y, Z, A)\n",
    "\n",
    "c.h(Z)\n",
    "c.cswap(Z, X, Y)\n",
    "c.h(Z)\n",
    "c.measure(Z, A)\n",
    "display(c.draw(\"mpl\"))\n"
   ]
  }
 ],
 "metadata": {
  "kernelspec": {
   "display_name": ".venv",
   "language": "python",
   "name": "python3"
  },
  "language_info": {
   "codemirror_mode": {
    "name": "ipython",
    "version": 3
   },
   "file_extension": ".py",
   "mimetype": "text/x-python",
   "name": "python",
   "nbconvert_exporter": "python",
   "pygments_lexer": "ipython3",
   "version": "3.11.2"
  }
 },
 "nbformat": 4,
 "nbformat_minor": 2
}
