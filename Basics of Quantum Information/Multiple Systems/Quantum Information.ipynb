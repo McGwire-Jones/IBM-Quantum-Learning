{
 "cells": [
  {
   "cell_type": "code",
   "execution_count": 6,
   "metadata": {},
   "outputs": [],
   "source": [
    "from numpy import array, matmul, sqrt, abs, kron\n",
    "from qiskit.quantum_info import Statevector\n",
    "from itertools import product"
   ]
  },
  {
   "cell_type": "markdown",
   "metadata": {},
   "source": [
    "# Quantum Information"
   ]
  },
  {
   "cell_type": "markdown",
   "metadata": {},
   "source": [
    "Quantum states vectors (QSV) are represented by column vectors whose euclidean norm equals 1 and whose indices correspond to a cartesian product of the individual systems' classical state set. For example, given two Qubits $X$ and $Y$ the classical state set it\n",
    "$$\n",
    "XY \\in \\{00, 01, 10, 11\\}\n",
    "$$\n",
    "so some valid quantum state vectors are \n",
    "$$\n",
    "\\frac{1}{2}\\ket{00} + \\frac{i}{2}\\ket{01} - \\frac{1}{2}\\ket{10} - \\frac{i}{2}\\ket{11} \\\\\n",
    "\\frac{3}{5}\\ket{00} - \\frac{2}{5}\\ket{11} \\\\\n",
    "\\ket{01}\n",
    "$$\n",
    "Given $\\ket{\\phi}$ is a QSV of system $X$ and $\\ket{\\psi}$ is a QSV of system $Y$ then $\\ket{\\phi}\\ket{\\psi}$ is a QSV of system $XY$. These are call *product states* and they represent *independence* between $X$ and $Y$.\n",
    "\n",
    "For example given a statevector \n",
    "$$\n",
    "\\frac{1}{2}\\ket{00} + \\frac{i}{2}\\ket{01} - \\frac{1}{2}\\ket{10} - \\frac{i}{2}\\ket{11} \n",
    "$$\n",
    "we can write this as a product vector \n",
    "$$\n",
    "(\\frac{1}{\\sqrt{2}}\\ket{0} - \\frac{1}{\\sqrt{2}}\\ket{1}) \\otimes \n",
    "(\\frac{1}{\\sqrt{2}}\\ket{0} + \\frac{i}{\\sqrt{2}}\\ket{1})\n",
    "$$"
   ]
  },
  {
   "cell_type": "code",
   "execution_count": 40,
   "metadata": {},
   "outputs": [
    {
     "data": {
      "text/latex": [
       "$$\\frac{1}{2} |00\\rangle+\\frac{i}{2} |01\\rangle- \\frac{1}{2} |10\\rangle- \\frac{i}{2} |11\\rangle$$"
      ],
      "text/plain": [
       "<IPython.core.display.Latex object>"
      ]
     },
     "metadata": {},
     "output_type": "display_data"
    },
    {
     "data": {
      "text/latex": [
       "$$\\frac{1}{2} |00\\rangle+\\frac{i}{2} |01\\rangle- \\frac{1}{2} |10\\rangle- \\frac{i}{2} |11\\rangle$$"
      ],
      "text/plain": [
       "<IPython.core.display.Latex object>"
      ]
     },
     "metadata": {},
     "output_type": "display_data"
    },
    {
     "data": {
      "text/plain": [
       "True"
      ]
     },
     "metadata": {},
     "output_type": "display_data"
    }
   ],
   "source": [
    "# Example of a product state\n",
    "v1 = Statevector([1/sqrt(2), 1j/sqrt(2)])\n",
    "v2 = Statevector([1/sqrt(2),  -1/sqrt(2)])\n",
    "v = Statevector([1/2, 1j/2, -1/2, -1j/2])\n",
    "u = v1.expand(v2)\n",
    "display(v.draw(\"latex\"))\n",
    "display(u.draw(\"latex\"))\n",
    "display(v == u)"
   ]
  },
  {
   "cell_type": "markdown",
   "metadata": {},
   "source": [
    "An example of a non-product state is for two qubits\n",
    "$$\n",
    "\\frac{1}{\\sqrt{2}}\\ket{00} + \\frac{1}{\\sqrt{2}}\\ket{11}\n",
    "$$\n",
    "To prove this assume that it is a product state. Then \n",
    "$$\n",
    "\\frac{1}{\\sqrt{2}}\\ket{00} + \\frac{1}{\\sqrt{2}}\\ket{11} = \\ket{\\phi} \\otimes \\ket{\\psi}\n",
    "$$\n",
    "It then follows that the \n",
    "$$\n",
    "\\braket{0|\\phi}\\braket{1|\\psi} = \\braket{01|\\phi \\otimes \\psi} = 0\n",
    "$$\n",
    "Implying that \n",
    "$$\n",
    "\\braket{0 | \\phi} = 0 \\text{ or } \\braket{1|\\psi} = 0\n",
    "$$\n",
    "Which contradicts that \n",
    "$$\n",
    "\\braket{0|\\phi}\\braket{0|\\psi} = \\frac{1}{\\sqrt{2}}\n",
    "$$\n",
    "so it must not be a product states.\n",
    "\n",
    "This is an example of an entangled state, which basically means they are not independent. Any non-product state is an entangled state. "
   ]
  },
  {
   "cell_type": "markdown",
   "metadata": {},
   "source": [
    "### Four Important Quantum States \n",
    "The following states are call Bell States or *Bell Basis* because they form a *basis* for all vectors representing 2 qubit states. \n",
    "$$\n",
    "\\ket{\\phi^+} = \\frac{1}{\\sqrt{2}}\\ket{00} + \\frac{1}{\\sqrt{2}}\\ket{11}\\\\\n",
    "\\ket{\\phi^-} = \\frac{1}{\\sqrt{2}}\\ket{00} - \\frac{1}{\\sqrt{2}}\\ket{11}\\\\\n",
    "\\ket{\\psi^+} = \\frac{1}{\\sqrt{2}}\\ket{01} + \\frac{1}{\\sqrt{2}}\\ket{10}\\\\\n",
    "\\ket{\\psi^-} = \\frac{1}{\\sqrt{2}}\\ket{10} - \\frac{1}{\\sqrt{2}}\\ket{10}\\\\\n",
    "$$\n",
    "\n",
    "Some important 3 qubit states.\n",
    "* GHZ State: $$\\frac{1}{\\sqrt{2}}\\ket{000} + \\frac{1}{\\sqrt{2}}\\ket{111}$$\n",
    "* W State: $$\\frac{1}{\\sqrt{3}}\\ket{001} + \\frac{1}{\\sqrt{3}}\\ket{010} + \\frac{1}{\\sqrt{3}}\\ket{100}$$\n",
    "\n",
    "None of these are product states."
   ]
  },
  {
   "cell_type": "markdown",
   "metadata": {},
   "source": [
    "### Measurement of Quantum States\n",
    "Things work the same assuming all of the systems are measured. So if $\\ket{\\psi}$ is a quantum state of system $(X_1, \\dots, X_n)$ and each system is measured, then each $n$-tuple (or string)\n",
    "$$\n",
    "(a_1, \\dots, a_n) \\in \\Sigma_1, \\times \\dots \\times \\Sigma_n\n",
    "$$\n",
    "is obtained with probability\n",
    "$$\n",
    "|\\braket{a_1 \\dots a_n| \\psi}|^2\n",
    "$$\n",
    "\n",
    "But what happens if we only measure one system? (or a proper subset of the systems)\n",
    "\n",
    "We know a QSV takes the form \n",
    "$$ \n",
    "\\ket{\\psi} = \\sum_{(a, b) \\in \\Sigma \\times \\Gamma} \\alpha_{a, b} \\ket{ab}\n",
    "$$\n",
    "So if we just measure $X$ the probability it taken by summing over all of the possible $Y$ values. So \n",
    "$$\n",
    "P(X = a) = \\sum_{b \\in \\Gamma} |\\braket{a b | \\psi}|^2 = \\sum_{b \\in \\Gamma}|\\alpha_{a, b}|^2\n",
    "$$\n",
    "and the probability $Y = b$ given $X = a$ will be the probability of $X = a$ and $Y = b$ normed by dividing by something. We show this by rewriting $\\ket{\\psi}$ as \n",
    "$$\n",
    "\\ket{\\psi} = \\sum_{a\\in \\Sigma} \\ket{a} \\otimes \\ket{\\phi_a}\n",
    "$$ \n",
    "where \n",
    "$$ \n",
    "\\ket{\\phi_a} = \\sum_{b \\in \\Gamma} \\alpha_{a, b} \\ket{b}  \\text{   for each } a \\in \\Sigma\n",
    "$$\n",
    "So we already know that \n",
    "$$ \n",
    "P(X = a) = ||\\ket{\\phi_a}||^2\n",
    "$$\n",
    "Which gives us a state vector for $Y$ as\n",
    "$$\n",
    "P(Y = b | X = a) = \\ket{a} \\otimes \\frac{\\ket{\\phi_a}}{||\\ket{\\phi_a}||^2}\n",
    "$$"
   ]
  },
  {
   "cell_type": "markdown",
   "metadata": {},
   "source": [
    "#### Example\n",
    "As an Example take the vector\n",
    "$$\n",
    "\\ket{\\psi} = \\frac{1}{\\sqrt{2}}\\ket{00} + \\frac{1}{2}\\ket{01} + \\frac{i}{2\\sqrt{2}}\\ket{10} - \\frac{1}{2\\sqrt{2}}\\ket{11}\n",
    "$$\n",
    "\n",
    "Then measure $X$. \n",
    "$$\n",
    "P(X = 0) \\\\\n",
    "\\sum_{b \\in \\{0, 1\\}} |\\braket{0b|\\psi}|^2 \\\\\n",
    "|\\braket{00|\\psi}|^2 + |\\braket{01|\\psi}|^2 \\\\\n",
    "\\frac{1}{2} + \\frac{1}{4} \\\\\n",
    "\\frac{3}{4}\n",
    "$$\n",
    "\n",
    "This leaves vector now in state\n",
    "$$\n",
    "P(Y = y | X = 0) = \\ket{0} \\otimes \\frac{\\frac{1}{\\sqrt{2}}\\ket{0} + \\frac{1}{2}\\ket{1}}{\\sqrt{\\frac{3}{4}}}\n",
    "$$\n"
   ]
  },
  {
   "cell_type": "markdown",
   "metadata": {},
   "source": [
    "### Unitary Operations\n",
    "Quantum Operations on compound systems are represented by unitary matrices whose rows and columns correspond to the Cartesian Product of the classical state sets of the individual systems. \n",
    "\n",
    "If a collection of operations is run on a system they can be represented by the tensor product of their matrices. \n",
    "\n",
    "Similar to before if unitary matrix can be represented by a product then the operations are considered independent. Not all of them are. Consider two systems $X$ and $Y$ with the same classical set $\\Sigma$. The *swap operation* on the pair $XY$ exchanges their contents. \n",
    "$$\n",
    "SWAP\\ket{\\phi \\otimes\\psi} = \\ket{\\psi \\otimes \\phi}\n",
    "$$\n",
    "For Qubits this gives the following matrix \n",
    "$$\n",
    "\\begin{pmatrix}\n",
    "1 & 0 & 0 & 0 \\\\ \n",
    "0 & 0 & 1 & 0 \\\\ \n",
    "0 & 1 & 0 & 0 \\\\ \n",
    "0 & 0 & 0 & 1\n",
    "\\end{pmatrix}\n",
    "$$\n",
    "\n",
    "Suppose $X$ is a Qubit and $Y$ is an arbitrary system. \n",
    "\n",
    "Then for every unitary operation $U$ on $Y$, a *controlled-$U$* operation is a unitary operation on the pair $XY$ defined with $I$ as the identity matrix as\n",
    "$$\n",
    "\\ket{0}\\braket{0| \\otimes I_Y + |1}\\bra{1} \\otimes U = \n",
    "\\begin{pmatrix}\n",
    "I_Y & 0 \\\\\n",
    "0 & U\n",
    "\\end{pmatrix}\n",
    "$$\n",
    "This allow operations to happen on $Y$ if $X$ has a certain value but otherwise do nothing. \n",
    "\n",
    "Gates can be thought of as a 3 qubit control operation. i.e check 1 qbit then potentially operate on the other 2. "
   ]
  }
 ],
 "metadata": {
  "kernelspec": {
   "display_name": "venv",
   "language": "python",
   "name": "python3"
  },
  "language_info": {
   "codemirror_mode": {
    "name": "ipython",
    "version": 3
   },
   "file_extension": ".py",
   "mimetype": "text/x-python",
   "name": "python",
   "nbconvert_exporter": "python",
   "pygments_lexer": "ipython3",
   "version": "3.8.1"
  }
 },
 "nbformat": 4,
 "nbformat_minor": 2
}
