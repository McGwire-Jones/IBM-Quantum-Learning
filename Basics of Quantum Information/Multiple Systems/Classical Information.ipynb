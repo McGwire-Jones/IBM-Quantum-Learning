{
 "cells": [
  {
   "cell_type": "code",
   "execution_count": 8,
   "metadata": {},
   "outputs": [],
   "source": [
    "from numpy import array, matmul, sqrt, abs, kron\n",
    "from qiskit.quantum_info import Statevector\n",
    "from itertools import product"
   ]
  },
  {
   "attachments": {},
   "cell_type": "markdown",
   "metadata": {},
   "source": [
    "# Classical Information"
   ]
  },
  {
   "attachments": {},
   "cell_type": "markdown",
   "metadata": {},
   "source": [
    "Given two systems\n",
    "* Suppose X has classical states $\\Sigma$\n",
    "* Suppose Y has classical states $\\Gamma$\n",
    "\n",
    "Imagine X and Y are placed side by side to give a new system XY or (X, Y).\n",
    "\n",
    "What are the classical states of XY? The *cartesian product* of X and Y. with $||X|| * ||Y||$ new states.\n",
    "$$\n",
    "\\Sigma \\times \\Gamma = \\{(a, b) : a \\in \\Sigma \\text{ and } b \\in \\Gamma \\}\n",
    "$$"
   ]
  },
  {
   "cell_type": "code",
   "execution_count": 9,
   "metadata": {},
   "outputs": [
    {
     "data": {
      "text/plain": [
       "(0, 'clubs')"
      ]
     },
     "metadata": {},
     "output_type": "display_data"
    },
    {
     "data": {
      "text/plain": [
       "(0, 'diamonds')"
      ]
     },
     "metadata": {},
     "output_type": "display_data"
    },
    {
     "data": {
      "text/plain": [
       "(0, 'hearts')"
      ]
     },
     "metadata": {},
     "output_type": "display_data"
    },
    {
     "data": {
      "text/plain": [
       "(0, 'spades')"
      ]
     },
     "metadata": {},
     "output_type": "display_data"
    },
    {
     "data": {
      "text/plain": [
       "(1, 'clubs')"
      ]
     },
     "metadata": {},
     "output_type": "display_data"
    },
    {
     "data": {
      "text/plain": [
       "(1, 'diamonds')"
      ]
     },
     "metadata": {},
     "output_type": "display_data"
    },
    {
     "data": {
      "text/plain": [
       "(1, 'hearts')"
      ]
     },
     "metadata": {},
     "output_type": "display_data"
    },
    {
     "data": {
      "text/plain": [
       "(1, 'spades')"
      ]
     },
     "metadata": {},
     "output_type": "display_data"
    }
   ],
   "source": [
    "# Example\n",
    "sigma = array([0, 1]).T\n",
    "gamma = array([\"clubs\", \"diamonds\", \"hearts\", \"spades\"]).T\n",
    "for list in product(sigma, gamma): # take cartesian product\n",
    "    display(list)"
   ]
  },
  {
   "attachments": {},
   "cell_type": "markdown",
   "metadata": {},
   "source": [
    "This generalizes to $n$ systems. Imagine $n \\in \\mathbf{N}$ systems $X_n$ each with a states $\\Sigma_n \\in \\{0, 1\\}$ We will write the state of the system as a string. i.e \n",
    "$$\n",
    "\\Sigma_1 \\times \\Sigma_2 \\times ... \\times \\Sigma_n = \\{0, 1\\}^{10}\n",
    "$$\n",
    "Written as strings this would look like, for all 0 states\n",
    "$$\n",
    "0000000000\n",
    "$$"
   ]
  },
  {
   "cell_type": "markdown",
   "metadata": {},
   "source": [
    "### Probabilistic States\n",
    "Associates a probability with each classical state. Must assign probabilities to each cartesian product element. Given two bit $X$ and $Y$ assume the probabilities of XY are \n",
    "$$\n",
    "P(X = 0 \\text{ and } Y = 0) = \\frac{1}{2} \\\\\n",
    "P(X = 0 \\text{ and }  Y = 1) = 0 \\\\\n",
    "P(X = 1 \\text{ and } Y = 0) = 0 \\\\\n",
    "P(X = 1 \\text{ and }  Y = 1) = \\frac{1}{2} \n",
    "$$\n",
    "We can alternatively write this as \n",
    "$$\n",
    "\\begin{pmatrix}\n",
    "\\frac{1}{2}\\\\\n",
    "0\\\\0\\\\\n",
    "\\frac{1}{2}\n",
    "\\end{pmatrix}\n",
    "$$\n",
    "Notice this uses are agreed convention for ordering by least elements first. I.e 00, 01, 10, 11. Similar to counting.\n",
    "\n",
    "For given states $X, Y$ we say $X$ and $Y$ are independent if \n",
    "$$\n",
    "P(X = x \\text{ and } Y = y) = P(X = x) P(Y = y)\n",
    "$$\n",
    "for all $x \\in \\Sigma$ and $y \\in \\Gamma$. \n",
    "\n",
    "We express the probabalistic states of XY as a vector by\n",
    "$$\n",
    "\\ket{\\pi} = \\sum_{(a, b) \\in \\Sigma \\times \\Gamma} \\rho_{a b} \\ket{ab}\n",
    "$$\n",
    "The systems $X$ and $Y$ are independent if there exists probability vectors \n",
    "$$\n",
    "\\ket{\\phi} = \\sum_{x \\in \\Sigma}q_x \\ket{x} \\text{  and  } \\ket{\\psi} = \\sum_{y \\in \\Gamma} r_y\\ket{y}\n",
    "$$\n",
    "Such that $p_{xy} = q_x r_y$ for all $x \\in \\Sigma$ and $y \\in \\Gamma$.\n",
    "\n",
    "Example. For a pair of bits $XY$ represented by the probability vector \n",
    "$$\n",
    "\\ket{pi} = \\frac{1}{6}\\ket{00} + \\frac{1}{12}\\ket{01} + \\frac{1}{2}\\ket{10} + \\frac{1}{4}\\ket{11}\n",
    "$$\n",
    "We know $XY$ are independent because we can write \n",
    "$$\n",
    "\\ket{\\phi} = \\frac{1}{4}\\ket{0} + \\frac{3}{4}\\ket{1} \\text{  and  } \n",
    "\\ket{\\psi} = \\frac{2}{3}\\ket{0} + \\frac{1}{3}\\ket{1}\n",
    "$$\n",
    "We then take the sum and see \n",
    "$$\n",
    "(\\frac{1}{4})(\\frac{2}{3})\\ket{00} = \\frac{1}{6}\\ket{00} \\\\\n",
    "\\dots \\\\\n",
    "(\\frac{3}{4})(\\frac{1}{3})\\ket{11} = \\frac{1}{4}\n",
    "$$\n",
    "As a counter example, take our previous two bits such that \n",
    "$$\n",
    "\\ket{\\pi} = \\frac{1}{2}\\ket{00} + \\frac{1}{2}\\ket{11} = \\begin{pmatrix}\n",
    "\\frac{1}{2}\\\\ 0 \\\\ 0 \\\\ \\frac{1}{2}\n",
    "\\end{pmatrix}\n",
    "$$\n",
    "To prove the system is not independent. Assume that is is so there must be coefficients such that\n",
    "$$\n",
    "q_0 r_0 = \\frac{1}{2} \\\\\n",
    "q_0 r_1 = 0 \\\\\n",
    "q_1 r_0 = 0 \\\\\n",
    "q_1 r_1 = \\frac{1}{2} \n",
    "$$\n",
    "But $q_0 r_1 = 0$ implies one of those is 0 yet $q_0r_0 = \\frac{1}{2}$ and $q_1r_1 = \\frac{1}{2}$ implies neither can be 0. Thus we have a contradiction and our initial assumption is wrong."
   ]
  },
  {
   "cell_type": "markdown",
   "metadata": {},
   "source": [
    "### Tensor Product of Vectors\n",
    "Tensor products can be used to check for independence. Given two vectors \n",
    "$$\n",
    "\\ket{\\phi} = \\sum \\alpha_x \\ket{x} \\text{ and }\n",
    "\\ket{\\psi} = \\sum \\beta_y \\ket{y} \n",
    "$$\n",
    "The tensor product $\\ket{\\phi} \\otimes \\ket{\\psi}$ is new vector defined over $\\Sigma \\times \\Gamma$ defined as \n",
    "$$\n",
    "\\ket{\\phi} \\otimes \\ket{\\psi} = \\sum_{(x, y) \\in \\Sigma \\times \\Gamma} \\alpha_x \\beta_y \\ket{ab}\n",
    "$$\n",
    "or equivalently the vector $\\ket{\\pi} = \\ket{\\phi} \\otimes \\ket{\\psi}$ is defined \n",
    "$$\n",
    "\\ket{\\pi} = \\braket{ab | \\pi} = \\braket{a| \\phi} \\braket{b | \\psi}\n",
    "$$\n",
    "For example\n",
    "$$\n",
    "\\ket{\\phi} = \\frac{1}{4}\\ket{0} + \\frac{3}{4}\\ket{1} \\text{  and  }\n",
    "\\ket{\\psi} = \\frac{2}{3}\\ket{0} + \\frac{1}{3}\\ket{1} \\\\\n",
    "\\ket{\\pi} = \\ket{\\phi} \\otimes \\ket{\\psi} = \\frac{1}{6}\\ket{00} + \\frac{1}{12}\\ket{01} + \\frac{1}{2}\\ket{10} + \\frac{1}{4}\\ket{11}\n",
    "$$\n",
    "There are some alternative notations \n",
    "$$\n",
    "\\ket{\\phi} \\otimes \\ket{\\psi} = \\ket{\\phi \\otimes \\psi} = \\ket{\\phi}\\ket{\\psi} \\text{ most common }\n",
    "$$\n",
    "\n",
    "Note that for standard basis vectors we know \n",
    "$$\n",
    "\\ket{a}\\ket{b} = \\ket{ab}\n",
    "$$\n",
    "\n",
    "We also know that the tensor product is *bilinear*. This means that it is linear in both arguments while the other is held constant. If there are 3 or more tensor products they are *multilinear*."
   ]
  },
  {
   "cell_type": "code",
   "execution_count": 12,
   "metadata": {},
   "outputs": [
    {
     "data": {
      "text/plain": [
       "array([[0.16666667],\n",
       "       [0.08333333],\n",
       "       [0.5       ],\n",
       "       [0.25      ]])"
      ]
     },
     "execution_count": 12,
     "metadata": {},
     "output_type": "execute_result"
    }
   ],
   "source": [
    "ket_phi = array([[1/4, 3/4]]).T\n",
    "ket_psi = array([[2/3, 1/3]]).T\n",
    "kron(ket_phi, ket_psi)"
   ]
  },
  {
   "cell_type": "markdown",
   "metadata": {},
   "source": [
    "### Measurements of Probabilistic States\n",
    "Works the same as in the one system case. For example take\n",
    "$$\n",
    "\\frac{1}{2}\\ket{00} + \\frac{1}{2}\\ket{11}\n",
    "$$\n",
    "we know \n",
    "$$\n",
    "P(xy = 00) = \\frac{1}{2} \\text{  and  } P(xy = 11) = \\frac{1}{2}\n",
    "$$\n",
    "So measure all of the systems is equivalent to measuring the whole system. \n",
    "\n",
    "If we measure only one of the systems we get further probabilistic states. Ex. Take system $XY$ and measure $X$. Then we get \n",
    "* The probability that $X$ is measured to be $x$ is equivalent to the sum of the probabilities that $XY$ is in a state $xy$ for all $y \\in \\gamma$.\n",
    "$$ \n",
    "P(X = x) = \\sum_{y \\in \\Gamma} P(XY = xy)\n",
    "$$\n",
    "* The state of $Y$ may still be uncertain and can be represented as \n",
    "$$\n",
    "P(Y = y | X = x) = \\frac{P(XY = xy)}{P(X = x)}\n",
    "$$\n",
    "\n",
    "These can be show in Dirac notation. Suppose $XY$ is some probabilistic state. \n",
    "$$\n",
    "\\sum \\rho_{xy} \\ket{xy} = \\sum \\rho_{xy}\\ket{x}\\ket{y}\n",
    "$$\n",
    "Then using *bilinearity* we get the following\n",
    "$$\n",
    "\\sum_{x \\in \\Sigma}\\ket{x} \\otimes (\\sum_{y \\in \\Gamma} \\rho_{xy} \\ket{y})\n",
    "$$\n",
    "This allows us to seperate the standard basis vectors to make things simpler. \n",
    "So we know that \n",
    "$$\n",
    "P(X = x) = \\sum_{b \\in \\Gamma} \\rho_{xy}\n",
    "$$\n",
    "and \n",
    "$$\n",
    "P(Y = y | X = x) = \\frac{\\sum_{b \\in \\Gamma}\\rho_{xy}\\ket{y}}{\\sum_{y' \\in \\Gamma}\\rho_{xy'}}\n",
    "$$\n",
    "Example suppose $XY$ is in $\\frac{1}{12}\\ket{00} + \\frac{1}{4}\\ket{01} + \\frac{1}{3}\\ket{10} + \\frac{1}{3}\\ket{11}$. This can be written as \n",
    "$$\n",
    "\\ket{0} \\otimes (\\frac{1}{12}\\ket{0} + \\frac{1}{4}\\ket{1}) + \\ket{1} \\otimes (\\frac{1}{3}\\ket{0} + \\frac{1}{3}\\ket{1})\n",
    "$$\n",
    "This makes it clear that \n",
    "$$\n",
    "P(X = 0) = \\frac{1}{12} + \\frac{1}{4} = \\frac{1}{3} \\\\\n",
    "P(X = 1) = \\frac{1}{3} + \\frac{1}{3} = \\frac{2}{3}\n",
    "$$\n",
    "The the conditional state of $Y$ becomes \n",
    "$$\n",
    "P(Y = y | X = 0) = \\frac{\\frac{1}{12}\\ket{0} + \\frac{1}{4}\\ket{0}}{\\frac{1}{3}} = \\frac{1}{4}\\ket{0} + \\frac{3}{4}\\ket{1} \\\\\n",
    "P(Y = y | X = 1) = \\frac{\\frac{1}{3}\\ket{0} + \\frac{1}{3}\\ket{0}}{\\frac{2}{3}} = \\frac{1}{2}\\ket{0} + \\frac{1}{2}\\ket{1}\n",
    "$$"
   ]
  },
  {
   "cell_type": "code",
   "execution_count": null,
   "metadata": {},
   "outputs": [],
   "source": []
  },
  {
   "cell_type": "markdown",
   "metadata": {},
   "source": [
    "### Operations on Probabilistic Systems\n",
    "We will still use *stochastic matrices* The only difference is each entry in the matrix references an element of the cartesian product of the two systems. \n",
    "\n",
    "As an example we will look at a *controlled not* operation on the two bits $XY$. So if $X = 1$ then perform a **not** operation on $Y$ else, do nothing. In this example $X$ is the *control bit* and $Y$ is the *target bit*. \n",
    "\n",
    "It has an action on standard basis states of \n",
    "$$\n",
    "\\ket{00} \\to \\ket{00} \\\\\n",
    "\\ket{01} \\to \\ket{01} \\\\\n",
    "\\ket{10} \\to \\ket{11} \\\\\n",
    "\\ket{11} \\to \\ket{10} \n",
    "$$\n",
    "and is represented by the matrix. Think col 1 shows $\\ket{00}$ maps only to itself. col 2 shows $\\ket{01}$ maps to itself. col 3 $\\ket{10}$ maps to $\\ket{11}$ and col 4 $\\ket{11}$ maps to $\\ket{10}.\n",
    "$$\n",
    "\\begin{pmatrix}\n",
    "1 & 0 & 0 & 0 \\\\ \n",
    "0 & 1 & 0 & 0 \\\\\n",
    "0 & 0 & 0 & 1 \\\\\n",
    "0 & 0 & 1 & 0 \n",
    "\\end{pmatrix}\n",
    "$$\n",
    "\n",
    "Now a probablistic operation works the same way except each column in the matrix is a probability vector. For example consider an operation: with probability $\\frac{1}{2}$ set $Y$ to be equal to $X$, other wise set $X$ to be equal to $Y$. Column 1 states that $\\ket{00}$ always goes to $\\ket{00}$. Columns 2 and 3 say $\\ket{01}$ and $\\ket{10}$ map to each other with probability $\\frac{1}{2}$ and column 4 states that $\\ket{11}$ always maps to $\\ket{11}$.\n",
    "$$\n",
    "\\begin{pmatrix}\n",
    "1 & \\frac{1}{2} & \\frac{1}{2} & 0 \\\\ \n",
    "0 & 0 & 0 & 0 \\\\\n",
    "0 & 0 & 0 & 0 \\\\\n",
    "0 & \\frac{1}{2}  & \\frac{1}{2} & 1\n",
    "\\end{pmatrix}\n",
    "= \n",
    "\\frac{1}{2} \\begin{pmatrix}\n",
    "1 & 1 & 0 & 0 \\\\ \n",
    "0 & 0 & 0 & 0 \\\\\n",
    "0 & 0 & 0 & 0 \\\\\n",
    "0 & 0 & 1 & 1\n",
    "\\end{pmatrix} +\n",
    "\\frac{1}{2} \\begin{pmatrix}\n",
    "1 & 0 & 1 & 0 \\\\ \n",
    "0 & 0 & 0 & 0 \\\\\n",
    "0 & 0 & 0 & 0 \\\\\n",
    "0 & 1 & 0 & 1\n",
    "\\end{pmatrix}\n",
    "$$\n",
    "\n",
    "Now consider what happens if we have two probabilistic operations. Suppose $M$ is operated on $X$ and $N$ is operated on $Y$ with the operations occuring simultaneously. How does this effect the total system $XY$? It must be describable as a stochastic matrix. It turns out it is the tensor product of the matrices."
   ]
  },
  {
   "cell_type": "markdown",
   "metadata": {},
   "source": [
    "### The Tensor Product Between Matrices\n",
    "Given two matrices\n",
    "$$\n",
    "M = \\sum_\\Sigma \\alpha_{ab} \\ket{a}\\bra{b} \\text{  and  } N = \\sum_\\Gamma \\beta_{cd} \\ket{c}\\bra{d}\n",
    "$$\n",
    "The *tensor product* is \n",
    "$$\n",
    "M \\otimes N = \\sum_{ab \\in \\Sigma} \\sum_{cd \\in \\Gamma} \\alpha_{ab}\\beta_{cd} \\ket{ac}\\bra{bd}\n",
    "$$\n",
    "Or it can be written as follows\n",
    "$$\n",
    "\\braket{ac|M \\otimes N|bd} = \\braket{a|M|b}\\braket{c|N|d} (\\text{ for all } a, b \\in \\Sigma \\text{ and } c, d \\in \\Gamma)\n",
    "$$\n",
    "It is also important to note that the tensor product of matrices is *multiplicative*. So \n",
    "$$\n",
    "(M_1 \\otimes \\dots \\otimes M_n)(N_1 \\otimes \\dots \\otimes N_n) = (M_1N_1) \\otimes \\dots \\otimes (M_n N_n)\n",
    "$$"
   ]
  },
  {
   "cell_type": "markdown",
   "metadata": {},
   "source": [
    "### Back to operations on Probabilistic States\n",
    "The action of two operations $M, N$ are two states $X$ and $Y$ is described the their tensor prodcut $M\\otimes N$.\n",
    "\n",
    "Tensor product represnet *independence* between operations. If nothing is done to one system then we use the identity matrix. "
   ]
  },
  {
   "cell_type": "code",
   "execution_count": 11,
   "metadata": {},
   "outputs": [
    {
     "data": {
      "text/plain": [
       "array([[1, 0, 1, 0],\n",
       "       [0, 1, 0, 1],\n",
       "       [0, 0, 0, 0],\n",
       "       [0, 0, 0, 0]])"
      ]
     },
     "metadata": {},
     "output_type": "display_data"
    },
    {
     "data": {
      "text/plain": [
       "'latex'"
      ]
     },
     "metadata": {},
     "output_type": "display_data"
    }
   ],
   "source": [
    "#Example \n",
    "M = array([[1, 1], [0, 0]])\n",
    "N = array([[1, 0], [0, 1]])\n",
    "display(kron(M, N))"
   ]
  }
 ],
 "metadata": {
  "kernelspec": {
   "display_name": ".venv",
   "language": "python",
   "name": "python3"
  },
  "language_info": {
   "codemirror_mode": {
    "name": "ipython",
    "version": 3
   },
   "file_extension": ".py",
   "mimetype": "text/x-python",
   "name": "python",
   "nbconvert_exporter": "python",
   "pygments_lexer": "ipython3",
   "version": "3.8.1"
  },
  "orig_nbformat": 4
 },
 "nbformat": 4,
 "nbformat_minor": 2
}
