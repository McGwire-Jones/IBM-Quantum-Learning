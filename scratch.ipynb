{
 "cells": [
  {
   "cell_type": "code",
   "execution_count": 15,
   "metadata": {},
   "outputs": [],
   "source": [
    "from qiskit.quantum_info import Statevector, Operator\n",
    "from numpy import matmul, kron, sqrt, array\n",
    "from numpy.linalg import norm\n",
    "from qiskit.circuit.library import CXGate\n",
    "from numpy.random import randint"
   ]
  },
  {
   "cell_type": "code",
   "execution_count": 4,
   "metadata": {},
   "outputs": [],
   "source": [
    "def ket_times_bra(v1, v2):\n",
    "    return Operator(matmul(array([v1]).T, array([v2])))\n",
    "\n",
    "def get_measure(vectors):\n",
    "    measure = ket_times_bra(vectors[0], vectors[0])\n",
    "    for v in vectors[1:]:\n",
    "        measure +=  ket_times_bra(v, v)\n",
    "    return measure\n"
   ]
  },
  {
   "cell_type": "code",
   "execution_count": 100,
   "metadata": {},
   "outputs": [
    {
     "name": "stdout",
     "output_type": "stream",
     "text": [
      "Q Starts as\n"
     ]
    },
    {
     "data": {
      "text/latex": [
       "$$\\frac{\\sqrt{2}}{2} |0\\rangle+\\frac{\\sqrt{2} i}{2} |1\\rangle$$"
      ],
      "text/plain": [
       "<IPython.core.display.Latex object>"
      ]
     },
     "metadata": {},
     "output_type": "display_data"
    },
    {
     "name": "stdout",
     "output_type": "stream",
     "text": [
      "Ket Pi 0 State\n"
     ]
    },
    {
     "data": {
      "text/latex": [
       "$$\\frac{1}{2} |000\\rangle+\\frac{i}{2} |001\\rangle+\\frac{1}{2} |110\\rangle+\\frac{i}{2} |111\\rangle$$"
      ],
      "text/plain": [
       "<IPython.core.display.Latex object>"
      ]
     },
     "metadata": {},
     "output_type": "display_data"
    },
    {
     "name": "stdout",
     "output_type": "stream",
     "text": [
      "Ket Pi 1 State\n"
     ]
    },
    {
     "data": {
      "text/latex": [
       "$$\\frac{1}{2} |000\\rangle+\\frac{i}{2} |011\\rangle+\\frac{i}{2} |101\\rangle+\\frac{1}{2} |110\\rangle$$"
      ],
      "text/plain": [
       "<IPython.core.display.Latex object>"
      ]
     },
     "metadata": {},
     "output_type": "display_data"
    },
    {
     "name": "stdout",
     "output_type": "stream",
     "text": [
      "Ket Pi 2 State\n"
     ]
    },
    {
     "data": {
      "text/latex": [
       "$$\\frac{\\sqrt{2}}{4} |000\\rangle+\\frac{\\sqrt{2}}{4} |001\\rangle+\\frac{\\sqrt{2} i}{4} |010\\rangle- \\frac{\\sqrt{2} i}{4} |011\\rangle+\\frac{\\sqrt{2} i}{4} |100\\rangle- \\frac{\\sqrt{2} i}{4} |101\\rangle+\\frac{\\sqrt{2}}{4} |110\\rangle+\\frac{\\sqrt{2}}{4} |111\\rangle$$"
      ],
      "text/plain": [
       "<IPython.core.display.Latex object>"
      ]
     },
     "metadata": {},
     "output_type": "display_data"
    },
    {
     "name": "stdout",
     "output_type": "stream",
     "text": [
      "a and q are measured as:  0 0\n",
      "Ket pi 3 State\n"
     ]
    },
    {
     "data": {
      "text/latex": [
       "$$\\frac{\\sqrt{2}}{4} |000\\rangle+\\frac{\\sqrt{2} i}{4} |100\\rangle$$"
      ],
      "text/plain": [
       "<IPython.core.display.Latex object>"
      ]
     },
     "metadata": {},
     "output_type": "display_data"
    },
    {
     "name": "stdout",
     "output_type": "stream",
     "text": [
      "State Teleported to Bob\n"
     ]
    },
    {
     "data": {
      "text/latex": [
       "$$\\frac{\\sqrt{2}}{4} |000\\rangle+\\frac{\\sqrt{2} i}{4} |100\\rangle$$"
      ],
      "text/plain": [
       "<IPython.core.display.Latex object>"
      ]
     },
     "metadata": {},
     "output_type": "display_data"
    }
   ],
   "source": [
    "I = Operator.from_label(\"I\")\n",
    "def quantum_teleport(Q):\n",
    "    BA = Statevector([1/sqrt(2), 0, 0, 1/sqrt(2)]) # initialize in phi+\n",
    "    ket_pi0 = BA.tensor(Q) # Create a statevector for system BAQ\n",
    "    print(\"Ket Pi 0 State\")\n",
    "    display(ket_pi0.draw(\"latex\"))\n",
    "\n",
    "    # Alices Job\n",
    "    cx = CXGate().to_matrix()\n",
    "    ket_pi1 = ket_pi0.evolve(I ^ cx)\n",
    "    print(\"Ket Pi 1 State\")\n",
    "    display(ket_pi1.draw(\"latex\"))\n",
    "\n",
    "    ket_pi2 = ket_pi1.evolve(I ^ I ^ Operator.from_label(\"H\"))\n",
    "    print(\"Ket Pi 2 State\")\n",
    "    display(ket_pi2.draw(\"latex\"))\n",
    "\n",
    "    # Measure\n",
    "    a, q = str(randint(0, 2)), str(randint(0, 2))\n",
    "    print(\"a and q are measured as: \", a, q)\n",
    "    measure = get_measure([Statevector.from_label(\"0\" + a + q), Statevector.from_label(\"1\" + a + q)])\n",
    "    ket_pi3 = ket_pi2.evolve(measure)  # Should change based on the random values\n",
    "    print(\"Ket pi 3 State\")\n",
    "    display(ket_pi3.draw(\"latex\"))\n",
    "\n",
    "    # Bob\n",
    "    b = ket_pi3\n",
    "    if a == \"1\":\n",
    "        b = b.evolve(Operator.from_label(\"X\") ^ I ^ I)\n",
    "    if q == \"1\":\n",
    "        b = b.evolve(Operator.from_label(\"Z\") ^ I ^ I)\n",
    "    return b\n",
    "\n",
    "Q = Statevector([1/sqrt(2), 1j/sqrt(2)])\n",
    "print(\"Q Starts as\")\n",
    "display(Q.draw(\"latex\"))\n",
    "\n",
    "B = quantum_teleport(Q)\n",
    "print(\"State Teleported to Bob\")\n",
    "display(B.draw(\"latex\"))\n",
    "\n",
    "result = Sampler().run"
   ]
  }
 ],
 "metadata": {
  "kernelspec": {
   "display_name": ".venv",
   "language": "python",
   "name": "python3"
  },
  "language_info": {
   "codemirror_mode": {
    "name": "ipython",
    "version": 3
   },
   "file_extension": ".py",
   "mimetype": "text/x-python",
   "name": "python",
   "nbconvert_exporter": "python",
   "pygments_lexer": "ipython3",
   "version": "3.11.2"
  }
 },
 "nbformat": 4,
 "nbformat_minor": 2
}
