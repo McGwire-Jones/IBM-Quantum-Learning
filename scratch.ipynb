{
 "cells": [
  {
   "cell_type": "code",
   "execution_count": 82,
   "metadata": {},
   "outputs": [],
   "source": [
    "from qiskit.quantum_info import Statevector, Operator\n",
    "from qiskit import QuantumCircuit, QuantumRegister, ClassicalRegister\n",
    "from qiskit.primitives import Sampler\n",
    "from qiskit.visualization import plot_histogram\n",
    "from numpy import matmul, kron, sqrt, array\n",
    "from numpy.linalg import norm\n",
    "from qiskit.circuit.library import CXGate\n",
    "from numpy.random import randint"
   ]
  },
  {
   "cell_type": "code",
   "execution_count": 2,
   "metadata": {},
   "outputs": [],
   "source": [
    "def ket_times_bra(v1, v2):\n",
    "    return Operator(matmul(array([v1]).T, array([v2])))\n",
    "\n",
    "def get_measure(vectors):\n",
    "    measure = ket_times_bra(vectors[0], vectors[0])\n",
    "    for v in vectors[1:]:\n",
    "        measure +=  ket_times_bra(v, v)\n",
    "    return measure\n"
   ]
  },
  {
   "cell_type": "code",
   "execution_count": 13,
   "metadata": {},
   "outputs": [
    {
     "data": {
      "text/latex": [
       "$$\n",
       "\n",
       "\\begin{bmatrix}\n",
       "\\frac{1}{3} & \\frac{1}{3} & \\frac{1}{3}  \\\\\n",
       " \\frac{1}{3} & \\frac{1}{3} & \\frac{1}{3}  \\\\\n",
       " \\frac{1}{3} & \\frac{1}{3} & \\frac{1}{3}  \\\\\n",
       " \\end{bmatrix}\n",
       "$$"
      ],
      "text/plain": [
       "<IPython.core.display.Latex object>"
      ]
     },
     "execution_count": 13,
     "metadata": {},
     "output_type": "execute_result"
    }
   ],
   "source": [
    "ket0 = Statevector([1, 0, 0])\n",
    "ket1 = Statevector([0, 1, 0])\n",
    "ket2 = Statevector([0, 0, 1])\n",
    "(ket_times_bra(ket0, ket0) + ket_times_bra(ket1, ket1) - ket_times_bra(ket2, ket2)).draw(\"latex\")\n",
    "((1/3)*ket_times_bra(ket0 + ket1 + ket2, ket0 + ket1 + ket2)).draw(\"latex\")"
   ]
  },
  {
   "cell_type": "code",
   "execution_count": 26,
   "metadata": {},
   "outputs": [
    {
     "data": {
      "text/latex": [
       "$$\n",
       "\n",
       "\\begin{bmatrix}\n",
       "-18 & 6  \\\\\n",
       " 9 & -3  \\\\\n",
       " \\end{bmatrix}\n",
       "$$"
      ],
      "text/plain": [
       "<IPython.core.display.Latex object>"
      ]
     },
     "metadata": {},
     "output_type": "display_data"
    },
    {
     "data": {
      "text/latex": [
       "$$\n",
       "\n",
       "\\begin{bmatrix}\n",
       "2 & -1  \\\\\n",
       " -9 & 3  \\\\\n",
       " \\end{bmatrix}\n",
       "$$"
      ],
      "text/plain": [
       "<IPython.core.display.Latex object>"
      ]
     },
     "metadata": {},
     "output_type": "display_data"
    }
   ],
   "source": [
    "ket0 = Statevector([1, 0])\n",
    "ket1 = Statevector([0, 1])\n",
    "display(ket_times_bra((2*ket0 - ket1), -9*ket0 + 3 *ket1).draw(\"latex\"))\n",
    "display((\n",
    "    2*ket_times_bra(ket0, ket0) - ket_times_bra(ket0, ket1) - 9*ket_times_bra(ket1, ket0) + 3*ket_times_bra(ket1, ket1)\n",
    ").draw(\"latex\"))"
   ]
  },
  {
   "cell_type": "code",
   "execution_count": 37,
   "metadata": {},
   "outputs": [
    {
     "data": {
      "text/latex": [
       "$$\\begin{align}\n",
       "\n",
       "\n",
       "\\begin{bmatrix}\n",
       "- \\frac{1}{2} + \\frac{\\sqrt{3} i}{6} & - \\frac{\\sqrt{3}}{6} + \\frac{\\sqrt{3} i}{6} & \\frac{\\sqrt{2}}{2}  \\\\\n",
       " \\end{bmatrix}\n",
       "\\\\\n",
       "\\text{dims=(3,)}\n",
       "\\end{align}$$"
      ],
      "text/plain": [
       "<IPython.core.display.Latex object>"
      ]
     },
     "metadata": {},
     "output_type": "display_data"
    },
    {
     "data": {
      "text/plain": [
       "True"
      ]
     },
     "metadata": {},
     "output_type": "display_data"
    }
   ],
   "source": [
    "v = .5*Statevector([sqrt(2), -sqrt(2/3), 2j/sqrt(3)])\n",
    "#v = Statevector([1j/sqrt(3), 1/sqrt(2), -1/sqrt(6)])\n",
    "v = (1/(sqrt(6) - sqrt(2) + 2j))*Statevector([sqrt(6), -sqrt(2), 2j])\n",
    "v = Statevector([(1j-sqrt(3))/(2*sqrt(3)), -(1-1j)/(sqrt(12)), 1/sqrt(2)])\n",
    "display(v.draw(\"latex\"))\n",
    "display(v.is_valid())"
   ]
  },
  {
   "cell_type": "code",
   "execution_count": 46,
   "metadata": {},
   "outputs": [
    {
     "name": "stdout",
     "output_type": "stream",
     "text": [
      "('clubs', 'clubs') :  0\n",
      "('clubs', 'diamonds') :  1\n",
      "('clubs', 'hearts') :  2\n",
      "('clubs', 'spades') :  3\n",
      "('diamonds', 'clubs') :  4\n",
      "('diamonds', 'diamonds') :  5\n",
      "('diamonds', 'hearts') :  6\n",
      "('diamonds', 'spades') :  7\n",
      "('hearts', 'clubs') :  8\n",
      "('hearts', 'diamonds') :  9\n",
      "('hearts', 'hearts') :  10\n",
      "('hearts', 'spades') :  11\n",
      "('spades', 'clubs') :  12\n",
      "('spades', 'diamonds') :  13\n",
      "('spades', 'hearts') :  14\n",
      "('spades', 'spades') :  15\n"
     ]
    }
   ],
   "source": [
    "from itertools import product\n",
    "gamma = [\"clubs\", \"diamonds\", \"hearts\", \"spades\"]\n",
    "crossProd = product(gamma, gamma)\n",
    "i = 0\n",
    "for val in crossProd:\n",
    "    print(val, \": \", i)\n",
    "    i += 1"
   ]
  },
  {
   "cell_type": "code",
   "execution_count": 48,
   "metadata": {},
   "outputs": [
    {
     "data": {
      "text/latex": [
       "$$\\begin{align}\n",
       "\n",
       "\n",
       "\\begin{bmatrix}\n",
       "- \\frac{10}{3} & - \\frac{4}{3} & - \\frac{10}{3} & \\frac{2}{3} & - \\frac{1}{3} & \\frac{2}{3}  \\\\\n",
       " \\end{bmatrix}\n",
       "\\\\\n",
       "\\text{dims=(3, 2)}\n",
       "\\end{align}$$"
      ],
      "text/plain": [
       "<IPython.core.display.Latex object>"
      ]
     },
     "execution_count": 48,
     "metadata": {},
     "output_type": "execute_result"
    }
   ],
   "source": [
    "u = Statevector([-2, 1])\n",
    "v = Statevector([1, 0, 1])\n",
    "w = Statevector([4, 1])\n",
    "x = Statevector([1/2, 1/2, 1/2])\n",
    "(u.tensor(v) - (2/3)*w.tensor(x)).draw(\"latex\")"
   ]
  },
  {
   "cell_type": "code",
   "execution_count": 54,
   "metadata": {},
   "outputs": [
    {
     "data": {
      "text/latex": [
       "$$\\frac{\\sqrt{3}}{6} |000\\rangle- \\frac{\\sqrt{3}}{6} |001\\rangle+\\frac{\\sqrt{3}}{6} |010\\rangle- \\frac{\\sqrt{3}}{6} |011\\rangle+\\frac{\\sqrt{3}}{3} |100\\rangle- \\frac{\\sqrt{3}}{3} |111\\rangle$$"
      ],
      "text/plain": [
       "<IPython.core.display.Latex object>"
      ]
     },
     "execution_count": 54,
     "metadata": {},
     "output_type": "execute_result"
    }
   ],
   "source": [
    "ket0 = Statevector([1, 0])\n",
    "ket1 = Statevector([0, 1])\n",
    "ketp = Statevector([1/sqrt(2), 1/sqrt(2)])\n",
    "ketm = Statevector([1/sqrt(2), -1/sqrt(2)])\n",
    "ket_psi = (1/sqrt(3))*(ket0.tensor(ketp).tensor(ketm) + ket1.tensor(ket0).tensor(ket0) - ket1.tensor(ket1).tensor(ket1))\n",
    "ket_psi.draw(\"latex\")\n"
   ]
  },
  {
   "cell_type": "code",
   "execution_count": 59,
   "metadata": {},
   "outputs": [
    {
     "data": {
      "text/plain": [
       "{'01': 0.4999999999999999, '21': 0.4999999999999999}"
      ]
     },
     "execution_count": 59,
     "metadata": {},
     "output_type": "execute_result"
    }
   ],
   "source": [
    "a = Statevector([1, 0, 0])\n",
    "b = Statevector([0, 1, 0])\n",
    "c = Statevector([0, 0, 1])\n",
    "new = ((a.tensor(b) + c.tensor(b))/sqrt(2))\n",
    "new.probabilities_dict()"
   ]
  },
  {
   "cell_type": "code",
   "execution_count": 100,
   "metadata": {},
   "outputs": [
    {
     "data": {
      "image/png": "[encoded data removed]",
      "text/plain": [
       "<Figure size 700x500 with 1 Axes>"
      ]
     },
     "metadata": {},
     "output_type": "display_data"
    }
   ],
   "source": [
    "c = QuantumCircuit(2)\n",
    "c.initialize(Statevector.from_label(\"10\"))\n",
    "c.h(0)\n",
    "c.cx(0, 1)\n",
    "c.z(1)\n",
    "c.cx(1, 0)\n",
    "c.h(1)\n",
    "c.measure_all()\n",
    "c.draw(\"mpl\")\n",
    "results = Sampler().run(c).result()\n",
    "\n",
    "data = results.quasi_dists[0].binary_probabilities()\n",
    "display(plot_histogram(data))\n"
   ]
  },
  {
   "cell_type": "code",
   "execution_count": 97,
   "metadata": {},
   "outputs": [
    {
     "data": {
      "text/latex": [
       "$$- \\frac{1}{2} |00\\rangle+\\frac{1}{2} |01\\rangle- \\frac{1}{2} |10\\rangle+\\frac{1}{2} |11\\rangle$$"
      ],
      "text/plain": [
       "<IPython.core.display.Latex object>"
      ]
     },
     "execution_count": 97,
     "metadata": {},
     "output_type": "execute_result"
    }
   ],
   "source": [
    "ket0 = Statevector([1, 0])\n",
    "ket1 = Statevector([0, 1])\n",
    "H = Operator.from_label(\"H\")\n",
    "CX = Operator(CXGate().to_matrix())\n",
    "Z = Operator.from_label(\"Z\")\n",
    "I = Operator.from_label(\"I\")\n",
    "q0 = ket0\n",
    "q1 = ket1\n",
    "\n",
    "q0 = q0.evolve(H)\n",
    "\n",
    "q0.tensor(q1).evolve(CX).evolve(I ^ Z).evolve(CX).evolve(I ^ H).draw(\"latex\")\n"
   ]
  },
  {
   "cell_type": "code",
   "execution_count": 125,
   "metadata": {},
   "outputs": [
    {
     "data": {
      "image/png": "[encoded data removed]",
      "text/plain": [
       "<Figure size 370.906x200.667 with 1 Axes>"
      ]
     },
     "execution_count": 125,
     "metadata": {},
     "output_type": "execute_result"
    }
   ],
   "source": [
    "X = Operator.from_label(\"X\")\n",
    "H = Operator.from_label(\"H\")\n",
    "S = Operator.from_label(\"S\")\n",
    "CX = Operator(CXGate().to_matrix())\n",
    "c = QuantumCircuit(2)\n",
    "c.x(0)\n",
    "c.s(1)\n",
    "c.cx(1, 0)\n",
    "c.h(1)\n",
    "c.h(0)\n",
    "c.draw(\"mpl\")\n",
    "\n"
   ]
  },
  {
   "cell_type": "code",
   "execution_count": 155,
   "metadata": {},
   "outputs": [
    {
     "data": {
      "text/latex": [
       "$$\n",
       "\n",
       "\\begin{bmatrix}\n",
       "0 & 0 & 1 & 0  \\\\\n",
       " 0 & 0 & 0 & i  \\\\\n",
       " 1 & 0 & 0 & 0  \\\\\n",
       " 0 & i & 0 & 0  \\\\\n",
       " \\end{bmatrix}\n",
       "$$"
      ],
      "text/plain": [
       "<IPython.core.display.Latex object>"
      ]
     },
     "metadata": {},
     "output_type": "display_data"
    },
    {
     "data": {
      "text/latex": [
       "$$\n",
       "\n",
       "\\begin{bmatrix}\n",
       "1 & 0 & 0 & 0  \\\\\n",
       " 0 & 0 & 0 & 1  \\\\\n",
       " 0 & 0 & 1 & 0  \\\\\n",
       " 0 & 1 & 0 & 0  \\\\\n",
       " \\end{bmatrix}\n",
       "$$"
      ],
      "text/plain": [
       "<IPython.core.display.Latex object>"
      ]
     },
     "metadata": {},
     "output_type": "display_data"
    },
    {
     "data": {
      "text/latex": [
       "$$\n",
       "\n",
       "\\begin{bmatrix}\n",
       "\\frac{1}{2} & \\frac{1}{2} & \\frac{1}{2} & \\frac{1}{2}  \\\\\n",
       " \\frac{1}{2} & - \\frac{1}{2} & \\frac{1}{2} & - \\frac{1}{2}  \\\\\n",
       " \\frac{1}{2} & \\frac{1}{2} & - \\frac{1}{2} & - \\frac{1}{2}  \\\\\n",
       " \\frac{1}{2} & - \\frac{1}{2} & - \\frac{1}{2} & \\frac{1}{2}  \\\\\n",
       " \\end{bmatrix}\n",
       "$$"
      ],
      "text/plain": [
       "<IPython.core.display.Latex object>"
      ]
     },
     "metadata": {},
     "output_type": "display_data"
    },
    {
     "data": {
      "text/latex": [
       "$$\n",
       "\n",
       "\\begin{bmatrix}\n",
       "\\frac{1}{2} & \\frac{i}{2} & \\frac{1}{2} & \\frac{i}{2}  \\\\\n",
       " \\frac{1}{2} & - \\frac{i}{2} & \\frac{1}{2} & - \\frac{i}{2}  \\\\\n",
       " - \\frac{1}{2} & \\frac{i}{2} & \\frac{1}{2} & - \\frac{i}{2}  \\\\\n",
       " - \\frac{1}{2} & - \\frac{i}{2} & \\frac{1}{2} & \\frac{i}{2}  \\\\\n",
       " \\end{bmatrix}\n",
       "$$"
      ],
      "text/plain": [
       "<IPython.core.display.Latex object>"
      ]
     },
     "execution_count": 155,
     "metadata": {},
     "output_type": "execute_result"
    }
   ],
   "source": [
    "from numpy.linalg import inv\n",
    "X = Operator.from_label(\"X\")\n",
    "S = Operator.from_label(\"S\")\n",
    "CX = Operator(CXGate().to_matrix())\n",
    "H = Operator.from_label(\"H\")\n",
    "left = X.tensor(S)\n",
    "display(left.draw(\"latex\"))\n",
    "display(CX.draw(\"latex\"))\n",
    "right = H.tensor(H)\n",
    "display(right.draw(\"latex\"))\n",
    "total = left.compose(CX).compose(right)\n",
    "total.draw(\"latex\")\n"
   ]
  },
  {
   "cell_type": "code",
   "execution_count": 179,
   "metadata": {},
   "outputs": [
    {
     "data": {
      "text/latex": [
       "$$\\frac{\\sqrt{5}}{5} |00\\rangle- \\frac{\\sqrt{10}}{5} |01\\rangle+\\frac{\\sqrt{10}}{5} |10\\rangle- \\frac{\\sqrt{5}}{5} |11\\rangle$$"
      ],
      "text/plain": [
       "<IPython.core.display.Latex object>"
      ]
     },
     "metadata": {},
     "output_type": "display_data"
    },
    {
     "data": {
      "text/latex": [
       "$$\n",
       "\n",
       "\\begin{bmatrix}\n",
       "1 & 0 & 0 & 0  \\\\\n",
       " 0 & 1 & 0 & 0  \\\\\n",
       " 0 & 0 & 1 & 0  \\\\\n",
       " 0 & 0 & 0 & 1  \\\\\n",
       " \\end{bmatrix}\n",
       "$$"
      ],
      "text/plain": [
       "<IPython.core.display.Latex object>"
      ]
     },
     "metadata": {},
     "output_type": "display_data"
    },
    {
     "data": {
      "text/latex": [
       "$$\\frac{\\sqrt{6}}{6} |00\\rangle- \\frac{\\sqrt{3}}{3} |01\\rangle+\\frac{\\sqrt{3}}{3} |10\\rangle- \\frac{\\sqrt{6}}{6} |11\\rangle$$"
      ],
      "text/plain": [
       "<IPython.core.display.Latex object>"
      ]
     },
     "metadata": {},
     "output_type": "display_data"
    },
    {
     "data": {
      "text/plain": [
       "{'00': 0.16666666666666666,\n",
       " '01': 0.3333333333333334,\n",
       " '10': 0.3333333333333334,\n",
       " '11': 0.16666666666666666}"
      ]
     },
     "metadata": {},
     "output_type": "display_data"
    },
    {
     "name": "stdout",
     "output_type": "stream",
     "text": [
      "Operator([[1.+0.j, 0.+0.j],\n",
      "          [0.+0.j, 1.+0.j]],\n",
      "         input_dims=(2,), output_dims=(2,))\n"
     ]
    }
   ],
   "source": [
    "psi0 = Statevector([1/sqrt(3), sqrt(2/3)])\n",
    "psi1 = Statevector([sqrt(2/3), -1/sqrt(3)])\n",
    "PI0 = ket_times_bra(psi0, psi0)\n",
    "PI1 = ket_times_bra(psi1, psi1)\n",
    "\n",
    "v = Statevector([1/sqrt(5), -sqrt(2/5), sqrt(2/5), -1/sqrt(5)])\n",
    "display(v.draw(\"latex\"))\n",
    "measure = PI0.tensor(I) + PI1.tensor(I)\n",
    "display(measure.draw(\"latex\"))\n",
    "v_measured = v.evolve(measure)/norm(v.evolve(measure))\n",
    "display(v_measured.draw(\"latex\"))\n",
    "display(v_measured.probabilities_dict())\n",
    "PI0.tensor(I).draw(\"latex\")\n",
    "PI1.tensor(I).draw(\"latex\")\n",
    "PI0 + PI1"
   ]
  },
  {
   "cell_type": "code",
   "execution_count": 180,
   "metadata": {},
   "outputs": [
    {
     "data": {
      "text/plain": [
       "0j"
      ]
     },
     "execution_count": 180,
     "metadata": {},
     "output_type": "execute_result"
    }
   ],
   "source": [
    "v = Statevector([5/13, 12/13])\n",
    "u = Statevector([12/13, -5/13])\n",
    "v.inner(u)"
   ]
  }
 ],
 "metadata": {
  "kernelspec": {
   "display_name": ".venv",
   "language": "python",
   "name": "python3"
  },
  "language_info": {
   "codemirror_mode": {
    "name": "ipython",
    "version": 3
   },
   "file_extension": ".py",
   "mimetype": "text/x-python",
   "name": "python",
   "nbconvert_exporter": "python",
   "pygments_lexer": "ipython3",
   "version": "3.11.2"
  }
 },
 "nbformat": 4,
 "nbformat_minor": 2
}
